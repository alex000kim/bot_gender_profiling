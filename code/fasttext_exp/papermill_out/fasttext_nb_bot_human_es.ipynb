{
 "cells": [
  {
   "cell_type": "code",
   "execution_count": 1,
   "metadata": {
    "papermill": {
     "duration": 0.007314,
     "end_time": "2019-03-05T19:45:38.750823",
     "exception": false,
     "start_time": "2019-03-05T19:45:38.743509",
     "status": "completed"
    },
    "tags": [
     "parameters"
    ]
   },
   "outputs": [],
   "source": [
    "LANG = 'es' # or 'es'\n",
    "TASK = 'gender' # or 'bot_human'"
   ]
  },
  {
   "cell_type": "code",
   "execution_count": 2,
   "metadata": {
    "papermill": {
     "duration": 0.011564,
     "end_time": "2019-03-05T19:45:38.797880",
     "exception": false,
     "start_time": "2019-03-05T19:45:38.786316",
     "status": "completed"
    },
    "tags": [
     "injected-parameters"
    ]
   },
   "outputs": [],
   "source": [
    "# Parameters\n",
    "LANG = \"es\"\n",
    "TASK = \"bot_human\"\n"
   ]
  },
  {
   "cell_type": "code",
   "execution_count": 3,
   "metadata": {
    "papermill": {
     "duration": 0.066277,
     "end_time": "2019-03-05T19:45:38.894618",
     "exception": false,
     "start_time": "2019-03-05T19:45:38.828341",
     "status": "completed"
    },
    "tags": []
   },
   "outputs": [],
   "source": [
    "import os\n",
    "from fastText import train_supervised, load_model\n",
    "from pathlib import Path"
   ]
  },
  {
   "cell_type": "code",
   "execution_count": 4,
   "metadata": {
    "papermill": {
     "duration": 0.007236,
     "end_time": "2019-03-05T19:45:38.902046",
     "exception": false,
     "start_time": "2019-03-05T19:45:38.894810",
     "status": "completed"
    },
    "tags": []
   },
   "outputs": [],
   "source": [
    "def print_results(N, p, r):\n",
    "    print(\"N\\t\" + str(N))\n",
    "    print(\"P@{}\\t{:.3f}\".format(1, p))\n",
    "    print(\"R@{}\\t{:.3f}\".format(1, r))"
   ]
  },
  {
   "cell_type": "code",
   "execution_count": 5,
   "metadata": {
    "papermill": {
     "duration": 0.015902,
     "end_time": "2019-03-05T19:45:38.950097",
     "exception": false,
     "start_time": "2019-03-05T19:45:38.934195",
     "status": "completed"
    },
    "tags": []
   },
   "outputs": [],
   "source": [
    "proj_path = Path(os.getcwd()).parents[1]\n",
    "data_path = proj_path/f'clean_data_txt_{LANG}'\n",
    "models_path = data_path/'models'\n",
    "train_data = data_path/f'train_{TASK}_data.txt'\n",
    "valid_data = data_path/f'test_{TASK}_data.txt'\n",
    "\n",
    "if not os.path.isdir(models_path):\n",
    "    os.makedirs(models_path)"
   ]
  },
  {
   "cell_type": "code",
   "execution_count": 6,
   "metadata": {
    "papermill": {
     "duration": 4.069006,
     "end_time": "2019-03-05T19:45:43.045331",
     "exception": false,
     "start_time": "2019-03-05T19:45:38.976325",
     "status": "completed"
    },
    "tags": []
   },
   "outputs": [],
   "source": [
    "model = train_supervised(input=str(train_data), \n",
    "                         loss='hs')"
   ]
  },
  {
   "cell_type": "code",
   "execution_count": 7,
   "metadata": {
    "papermill": {
     "duration": 0.504014,
     "end_time": "2019-03-05T19:45:43.549541",
     "exception": false,
     "start_time": "2019-03-05T19:45:43.045527",
     "status": "completed"
    },
    "tags": []
   },
   "outputs": [
    {
     "name": "stdout",
     "output_type": "stream",
     "text": [
      "N\t60000\n",
      "P@1\t0.892\n",
      "R@1\t0.892\n"
     ]
    }
   ],
   "source": [
    "print_results(*model.test(str(valid_data)))"
   ]
  },
  {
   "cell_type": "code",
   "execution_count": 8,
   "metadata": {
    "papermill": {
     "duration": 1.819949,
     "end_time": "2019-03-05T19:45:45.369678",
     "exception": false,
     "start_time": "2019-03-05T19:45:43.549729",
     "status": "completed"
    },
    "tags": []
   },
   "outputs": [],
   "source": [
    "model.save_model(str(models_path/f'model_{TASK}_{LANG}'))"
   ]
  },
  {
   "cell_type": "code",
   "execution_count": null,
   "metadata": {
    "papermill": {
     "duration": 7e-06,
     "end_time": "2019-03-05T19:45:45.369959",
     "exception": null,
     "start_time": "2019-03-05T19:45:45.369952",
     "status": "completed"
    },
    "tags": []
   },
   "outputs": [],
   "source": []
  }
 ],
 "metadata": {
  "celltoolbar": "Tags",
  "kernelspec": {
   "display_name": "Python 3",
   "language": "python",
   "name": "python3"
  },
  "language_info": {
   "codemirror_mode": {
    "name": "ipython",
    "version": 3
   },
   "file_extension": ".py",
   "mimetype": "text/x-python",
   "name": "python",
   "nbconvert_exporter": "python",
   "pygments_lexer": "ipython3",
   "version": "3.6.8"
  },
  "papermill": {
   "duration": 8.341525,
   "end_time": "2019-03-05T19:45:46.316601",
   "environment_variables": {},
   "exception": false,
   "output_path": "papermill_out/fastext_nb_bot_human_es.ipynb",
   "parameters": {
    "LANG": "es",
    "TASK": "bot_human"
   },
   "start_time": "2019-03-05T19:45:37.975076",
   "version": "0.14.2"
  }
 },
 "nbformat": 4,
 "nbformat_minor": 2
}