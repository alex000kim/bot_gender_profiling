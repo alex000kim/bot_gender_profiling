{
 "cells": [
  {
   "cell_type": "code",
   "execution_count": 1,
   "metadata": {
    "papermill": {
     "duration": 0.009402,
     "end_time": "2019-03-05T19:45:53.783708",
     "exception": false,
     "start_time": "2019-03-05T19:45:53.774306",
     "status": "completed"
    },
    "tags": [
     "parameters"
    ]
   },
   "outputs": [],
   "source": [
    "LANG = 'es' # or 'es'\n",
    "TASK = 'gender' # or 'bot_human'"
   ]
  },
  {
   "cell_type": "code",
   "execution_count": 2,
   "metadata": {
    "papermill": {
     "duration": 0.012189,
     "end_time": "2019-03-05T19:45:53.827672",
     "exception": false,
     "start_time": "2019-03-05T19:45:53.815483",
     "status": "completed"
    },
    "tags": [
     "injected-parameters"
    ]
   },
   "outputs": [],
   "source": [
    "# Parameters\n",
    "LANG = \"es\"\n",
    "TASK = \"gender\"\n"
   ]
  },
  {
   "cell_type": "code",
   "execution_count": 3,
   "metadata": {
    "papermill": {
     "duration": 0.073306,
     "end_time": "2019-03-05T19:45:53.929116",
     "exception": false,
     "start_time": "2019-03-05T19:45:53.855810",
     "status": "completed"
    },
    "tags": []
   },
   "outputs": [],
   "source": [
    "import os\n",
    "from fastText import train_supervised, load_model\n",
    "from pathlib import Path"
   ]
  },
  {
   "cell_type": "code",
   "execution_count": 4,
   "metadata": {
    "papermill": {
     "duration": 0.01018,
     "end_time": "2019-03-05T19:45:53.939486",
     "exception": false,
     "start_time": "2019-03-05T19:45:53.929306",
     "status": "completed"
    },
    "tags": []
   },
   "outputs": [],
   "source": [
    "def print_results(N, p, r):\n",
    "    print(\"N\\t\" + str(N))\n",
    "    print(\"P@{}\\t{:.3f}\".format(1, p))\n",
    "    print(\"R@{}\\t{:.3f}\".format(1, r))"
   ]
  },
  {
   "cell_type": "code",
   "execution_count": 5,
   "metadata": {
    "papermill": {
     "duration": 0.014919,
     "end_time": "2019-03-05T19:45:53.991790",
     "exception": false,
     "start_time": "2019-03-05T19:45:53.976871",
     "status": "completed"
    },
    "tags": []
   },
   "outputs": [],
   "source": [
    "proj_path = Path(os.getcwd()).parents[1]\n",
    "data_path = proj_path/f'clean_data_txt_{LANG}'\n",
    "models_path = data_path/'models'\n",
    "train_data = data_path/f'train_{TASK}_data.txt'\n",
    "valid_data = data_path/f'test_{TASK}_data.txt'\n",
    "\n",
    "if not os.path.isdir(models_path):\n",
    "    os.makedirs(models_path)"
   ]
  },
  {
   "cell_type": "code",
   "execution_count": 6,
   "metadata": {
    "papermill": {
     "duration": 2.243454,
     "end_time": "2019-03-05T19:45:56.265674",
     "exception": false,
     "start_time": "2019-03-05T19:45:54.022220",
     "status": "completed"
    },
    "tags": []
   },
   "outputs": [],
   "source": [
    "model = train_supervised(input=str(train_data), \n",
    "                         loss='hs')"
   ]
  },
  {
   "cell_type": "code",
   "execution_count": 7,
   "metadata": {
    "papermill": {
     "duration": 0.314727,
     "end_time": "2019-03-05T19:45:56.580595",
     "exception": false,
     "start_time": "2019-03-05T19:45:56.265868",
     "status": "completed"
    },
    "tags": []
   },
   "outputs": [
    {
     "name": "stdout",
     "output_type": "stream",
     "text": [
      "N\t28800\n",
      "P@1\t0.721\n",
      "R@1\t0.721\n"
     ]
    }
   ],
   "source": [
    "print_results(*model.test(str(valid_data)))"
   ]
  },
  {
   "cell_type": "code",
   "execution_count": 8,
   "metadata": {
    "papermill": {
     "duration": 1.577316,
     "end_time": "2019-03-05T19:45:58.158109",
     "exception": false,
     "start_time": "2019-03-05T19:45:56.580793",
     "status": "completed"
    },
    "tags": []
   },
   "outputs": [],
   "source": [
    "model.save_model(str(models_path/f'model_{TASK}_{LANG}'))"
   ]
  },
  {
   "cell_type": "code",
   "execution_count": null,
   "metadata": {
    "papermill": {
     "duration": 4e-06,
     "end_time": "2019-03-05T19:45:58.158313",
     "exception": null,
     "start_time": "2019-03-05T19:45:58.158309",
     "status": "completed"
    },
    "tags": []
   },
   "outputs": [],
   "source": []
  }
 ],
 "metadata": {
  "celltoolbar": "Tags",
  "kernelspec": {
   "display_name": "Python 3",
   "language": "python",
   "name": "python3"
  },
  "language_info": {
   "codemirror_mode": {
    "name": "ipython",
    "version": 3
   },
   "file_extension": ".py",
   "mimetype": "text/x-python",
   "name": "python",
   "nbconvert_exporter": "python",
   "pygments_lexer": "ipython3",
   "version": "3.6.8"
  },
  "papermill": {
   "duration": 6.236132,
   "end_time": "2019-03-05T19:45:59.284948",
   "environment_variables": {},
   "exception": false,
   "output_path": "papermill_out/fastext_nb_gender_es.ipynb",
   "parameters": {
    "LANG": "es",
    "TASK": "gender"
   },
   "start_time": "2019-03-05T19:45:53.048816",
   "version": "0.14.2"
  }
 },
 "nbformat": 4,
 "nbformat_minor": 2
}