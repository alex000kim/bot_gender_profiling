{
 "cells": [
  {
   "cell_type": "code",
   "execution_count": 1,
   "metadata": {
    "papermill": {
     "duration": 0.007291,
     "end_time": "2019-03-05T19:45:12.654147",
     "exception": false,
     "start_time": "2019-03-05T19:45:12.646856",
     "status": "completed"
    },
    "tags": [
     "parameters"
    ]
   },
   "outputs": [],
   "source": [
    "LANG = 'es' # or 'es'\n",
    "TASK = 'gender' # or 'bot_human'"
   ]
  },
  {
   "cell_type": "code",
   "execution_count": 2,
   "metadata": {
    "papermill": {
     "duration": 0.009262,
     "end_time": "2019-03-05T19:45:12.696673",
     "exception": false,
     "start_time": "2019-03-05T19:45:12.687411",
     "status": "completed"
    },
    "tags": [
     "injected-parameters"
    ]
   },
   "outputs": [],
   "source": [
    "# Parameters\n",
    "LANG = \"en\"\n",
    "TASK = \"gender\"\n"
   ]
  },
  {
   "cell_type": "code",
   "execution_count": 3,
   "metadata": {
    "papermill": {
     "duration": 0.061196,
     "end_time": "2019-03-05T19:45:12.788859",
     "exception": false,
     "start_time": "2019-03-05T19:45:12.727663",
     "status": "completed"
    },
    "tags": []
   },
   "outputs": [],
   "source": [
    "import os\n",
    "from fastText import train_supervised, load_model\n",
    "from pathlib import Path"
   ]
  },
  {
   "cell_type": "code",
   "execution_count": 4,
   "metadata": {
    "papermill": {
     "duration": 0.012275,
     "end_time": "2019-03-05T19:45:12.801326",
     "exception": false,
     "start_time": "2019-03-05T19:45:12.789051",
     "status": "completed"
    },
    "tags": []
   },
   "outputs": [],
   "source": [
    "def print_results(N, p, r):\n",
    "    print(\"N\\t\" + str(N))\n",
    "    print(\"P@{}\\t{:.3f}\".format(1, p))\n",
    "    print(\"R@{}\\t{:.3f}\".format(1, r))"
   ]
  },
  {
   "cell_type": "code",
   "execution_count": 5,
   "metadata": {
    "papermill": {
     "duration": 0.032618,
     "end_time": "2019-03-05T19:45:12.868319",
     "exception": false,
     "start_time": "2019-03-05T19:45:12.835701",
     "status": "completed"
    },
    "tags": []
   },
   "outputs": [],
   "source": [
    "proj_path = Path(os.getcwd()).parents[1]\n",
    "data_path = proj_path/f'clean_data_txt_{LANG}'\n",
    "models_path = data_path/'models'\n",
    "train_data = data_path/f'train_{TASK}_data.txt'\n",
    "valid_data = data_path/f'test_{TASK}_data.txt'\n",
    "\n",
    "if not os.path.isdir(models_path):\n",
    "    os.makedirs(models_path)"
   ]
  },
  {
   "cell_type": "code",
   "execution_count": 6,
   "metadata": {
    "papermill": {
     "duration": 2.999598,
     "end_time": "2019-03-05T19:45:15.890688",
     "exception": false,
     "start_time": "2019-03-05T19:45:12.891090",
     "status": "completed"
    },
    "tags": []
   },
   "outputs": [],
   "source": [
    "model = train_supervised(input=str(train_data), \n",
    "                         loss='hs')"
   ]
  },
  {
   "cell_type": "code",
   "execution_count": 7,
   "metadata": {
    "papermill": {
     "duration": 0.348691,
     "end_time": "2019-03-05T19:45:16.239477",
     "exception": false,
     "start_time": "2019-03-05T19:45:15.890786",
     "status": "completed"
    },
    "tags": []
   },
   "outputs": [
    {
     "name": "stdout",
     "output_type": "stream",
     "text": [
      "N\t43300\n",
      "P@1\t0.758\n",
      "R@1\t0.758\n"
     ]
    }
   ],
   "source": [
    "print_results(*model.test(str(valid_data)))"
   ]
  },
  {
   "cell_type": "code",
   "execution_count": 8,
   "metadata": {
    "papermill": {
     "duration": 1.214576,
     "end_time": "2019-03-05T19:45:17.454249",
     "exception": false,
     "start_time": "2019-03-05T19:45:16.239673",
     "status": "completed"
    },
    "tags": []
   },
   "outputs": [],
   "source": [
    "model.save_model(str(models_path/f'model_{TASK}_{LANG}'))"
   ]
  },
  {
   "cell_type": "code",
   "execution_count": null,
   "metadata": {
    "papermill": {
     "duration": 4e-06,
     "end_time": "2019-03-05T19:45:17.454465",
     "exception": null,
     "start_time": "2019-03-05T19:45:17.454461",
     "status": "completed"
    },
    "tags": []
   },
   "outputs": [],
   "source": []
  }
 ],
 "metadata": {
  "celltoolbar": "Tags",
  "kernelspec": {
   "display_name": "Python 3",
   "language": "python",
   "name": "python3"
  },
  "language_info": {
   "codemirror_mode": {
    "name": "ipython",
    "version": 3
   },
   "file_extension": ".py",
   "mimetype": "text/x-python",
   "name": "python",
   "nbconvert_exporter": "python",
   "pygments_lexer": "ipython3",
   "version": "3.6.8"
  },
  "papermill": {
   "duration": 6.239112,
   "end_time": "2019-03-05T19:45:18.127188",
   "environment_variables": {},
   "exception": false,
   "output_path": "papermill_out/fastext_nb_gender_en.ipynb",
   "parameters": {
    "LANG": "en",
    "TASK": "gender"
   },
   "start_time": "2019-03-05T19:45:11.888076",
   "version": "0.14.2"
  }
 },
 "nbformat": 4,
 "nbformat_minor": 2
}