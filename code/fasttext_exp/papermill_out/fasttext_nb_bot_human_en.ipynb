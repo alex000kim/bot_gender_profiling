{
 "cells": [
  {
   "cell_type": "code",
   "execution_count": 1,
   "metadata": {
    "papermill": {
     "duration": 0.00769,
     "end_time": "2019-03-05T19:45:23.033880",
     "exception": false,
     "start_time": "2019-03-05T19:45:23.026190",
     "status": "completed"
    },
    "tags": [
     "parameters"
    ]
   },
   "outputs": [],
   "source": [
    "LANG = 'es' # or 'es'\n",
    "TASK = 'gender' # or 'bot_human'"
   ]
  },
  {
   "cell_type": "code",
   "execution_count": 2,
   "metadata": {
    "papermill": {
     "duration": 0.011707,
     "end_time": "2019-03-05T19:45:23.077018",
     "exception": false,
     "start_time": "2019-03-05T19:45:23.065311",
     "status": "completed"
    },
    "tags": [
     "injected-parameters"
    ]
   },
   "outputs": [],
   "source": [
    "# Parameters\n",
    "LANG = \"en\"\n",
    "TASK = \"bot_human\"\n"
   ]
  },
  {
   "cell_type": "code",
   "execution_count": 3,
   "metadata": {
    "papermill": {
     "duration": 0.060402,
     "end_time": "2019-03-05T19:45:23.182136",
     "exception": false,
     "start_time": "2019-03-05T19:45:23.121734",
     "status": "completed"
    },
    "tags": []
   },
   "outputs": [],
   "source": [
    "import os\n",
    "from fastText import train_supervised, load_model\n",
    "from pathlib import Path"
   ]
  },
  {
   "cell_type": "code",
   "execution_count": 4,
   "metadata": {
    "papermill": {
     "duration": 0.012063,
     "end_time": "2019-03-05T19:45:23.194295",
     "exception": false,
     "start_time": "2019-03-05T19:45:23.182232",
     "status": "completed"
    },
    "tags": []
   },
   "outputs": [],
   "source": [
    "def print_results(N, p, r):\n",
    "    print(\"N\\t\" + str(N))\n",
    "    print(\"P@{}\\t{:.3f}\".format(1, p))\n",
    "    print(\"R@{}\\t{:.3f}\".format(1, r))"
   ]
  },
  {
   "cell_type": "code",
   "execution_count": 5,
   "metadata": {
    "papermill": {
     "duration": 0.012389,
     "end_time": "2019-03-05T19:45:23.238479",
     "exception": false,
     "start_time": "2019-03-05T19:45:23.226090",
     "status": "completed"
    },
    "tags": []
   },
   "outputs": [],
   "source": [
    "proj_path = Path(os.getcwd()).parents[1]\n",
    "data_path = proj_path/f'clean_data_txt_{LANG}'\n",
    "models_path = data_path/'models'\n",
    "train_data = data_path/f'train_{TASK}_data.txt'\n",
    "valid_data = data_path/f'test_{TASK}_data.txt'\n",
    "\n",
    "if not os.path.isdir(models_path):\n",
    "    os.makedirs(models_path)"
   ]
  },
  {
   "cell_type": "code",
   "execution_count": 6,
   "metadata": {
    "papermill": {
     "duration": 5.754908,
     "end_time": "2019-03-05T19:45:29.026368",
     "exception": false,
     "start_time": "2019-03-05T19:45:23.271460",
     "status": "completed"
    },
    "tags": []
   },
   "outputs": [],
   "source": [
    "model = train_supervised(input=str(train_data), \n",
    "                         loss='hs')"
   ]
  },
  {
   "cell_type": "code",
   "execution_count": 7,
   "metadata": {
    "papermill": {
     "duration": 0.745575,
     "end_time": "2019-03-05T19:45:29.772133",
     "exception": false,
     "start_time": "2019-03-05T19:45:29.026558",
     "status": "completed"
    },
    "tags": []
   },
   "outputs": [
    {
     "name": "stdout",
     "output_type": "stream",
     "text": [
      "N\t82400\n",
      "P@1\t0.910\n",
      "R@1\t0.910\n"
     ]
    }
   ],
   "source": [
    "print_results(*model.test(str(valid_data)))"
   ]
  },
  {
   "cell_type": "code",
   "execution_count": 8,
   "metadata": {
    "papermill": {
     "duration": 2.035344,
     "end_time": "2019-03-05T19:45:31.807668",
     "exception": false,
     "start_time": "2019-03-05T19:45:29.772324",
     "status": "completed"
    },
    "tags": []
   },
   "outputs": [],
   "source": [
    "model.save_model(str(models_path/f'model_{TASK}_{LANG}'))"
   ]
  },
  {
   "cell_type": "code",
   "execution_count": null,
   "metadata": {
    "papermill": {
     "duration": 4e-06,
     "end_time": "2019-03-05T19:45:31.807907",
     "exception": null,
     "start_time": "2019-03-05T19:45:31.807903",
     "status": "completed"
    },
    "tags": []
   },
   "outputs": [],
   "source": []
  }
 ],
 "metadata": {
  "celltoolbar": "Tags",
  "kernelspec": {
   "display_name": "Python 3",
   "language": "python",
   "name": "python3"
  },
  "language_info": {
   "codemirror_mode": {
    "name": "ipython",
    "version": 3
   },
   "file_extension": ".py",
   "mimetype": "text/x-python",
   "name": "python",
   "nbconvert_exporter": "python",
   "pygments_lexer": "ipython3",
   "version": "3.6.8"
  },
  "papermill": {
   "duration": 10.343231,
   "end_time": "2019-03-05T19:45:32.609031",
   "environment_variables": {},
   "exception": false,
   "output_path": "papermill_out/fastext_nb_bot_human_en.ipynb",
   "parameters": {
    "LANG": "en",
    "TASK": "bot_human"
   },
   "start_time": "2019-03-05T19:45:22.265800",
   "version": "0.14.2"
  }
 },
 "nbformat": 4,
 "nbformat_minor": 2
}