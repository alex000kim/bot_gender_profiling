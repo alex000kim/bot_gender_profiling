{
 "cells": [
  {
   "cell_type": "code",
   "execution_count": 1,
   "metadata": {
    "papermill": {
     "duration": 0.013032,
     "end_time": "2019-03-06T01:25:42.159591",
     "exception": false,
     "start_time": "2019-03-06T01:25:42.146559",
     "status": "completed"
    },
    "tags": [
     "parameters"
    ]
   },
   "outputs": [],
   "source": [
    "LANG = 'es' # or 'es'\n",
    "TASK = 'gender' # or 'bot_human'"
   ]
  },
  {
   "cell_type": "code",
   "execution_count": 2,
   "metadata": {
    "papermill": {
     "duration": 0.012391,
     "end_time": "2019-03-06T01:25:42.195869",
     "exception": false,
     "start_time": "2019-03-06T01:25:42.183478",
     "status": "completed"
    },
    "tags": [
     "injected-parameters"
    ]
   },
   "outputs": [],
   "source": [
    "# Parameters\n",
    "LANG = \"es\"\n",
    "TASK = \"bot_human\"\n"
   ]
  },
  {
   "cell_type": "code",
   "execution_count": 3,
   "metadata": {
    "papermill": {
     "duration": 1.414076,
     "end_time": "2019-03-06T01:25:43.656667",
     "exception": false,
     "start_time": "2019-03-06T01:25:42.242591",
     "status": "completed"
    },
    "tags": []
   },
   "outputs": [],
   "source": [
    "import os\n",
    "from fastai.text import * "
   ]
  },
  {
   "cell_type": "code",
   "execution_count": 4,
   "metadata": {
    "papermill": {
     "duration": 0.015001,
     "end_time": "2019-03-06T01:25:43.671881",
     "exception": false,
     "start_time": "2019-03-06T01:25:43.656880",
     "status": "completed"
    },
    "tags": []
   },
   "outputs": [
    {
     "data": {
      "text/plain": [
       "1"
      ]
     },
     "execution_count": 4,
     "metadata": {},
     "output_type": "execute_result"
    }
   ],
   "source": [
    "torch.cuda.device_count()"
   ]
  },
  {
   "cell_type": "code",
   "execution_count": 5,
   "metadata": {
    "papermill": {
     "duration": 0.013834,
     "end_time": "2019-03-06T01:25:43.728000",
     "exception": false,
     "start_time": "2019-03-06T01:25:43.714166",
     "status": "completed"
    },
    "tags": []
   },
   "outputs": [],
   "source": [
    "proj_path = Path(os.getcwd()).parents[1]"
   ]
  },
  {
   "cell_type": "code",
   "execution_count": 6,
   "metadata": {
    "papermill": {
     "duration": 0.013484,
     "end_time": "2019-03-06T01:25:43.786868",
     "exception": false,
     "start_time": "2019-03-06T01:25:43.773384",
     "status": "completed"
    },
    "tags": []
   },
   "outputs": [],
   "source": [
    "data_path = proj_path/f'clean_data_csv_{LANG}'"
   ]
  },
  {
   "cell_type": "code",
   "execution_count": 7,
   "metadata": {
    "papermill": {
     "duration": 0.742028,
     "end_time": "2019-03-06T01:25:44.570290",
     "exception": false,
     "start_time": "2019-03-06T01:25:43.828262",
     "status": "completed"
    },
    "tags": []
   },
   "outputs": [],
   "source": [
    "df = pd.read_csv(data_path/f'all_{TASK}_data.csv')"
   ]
  },
  {
   "cell_type": "code",
   "execution_count": 8,
   "metadata": {
    "papermill": {
     "duration": 0.021411,
     "end_time": "2019-03-06T01:25:44.591917",
     "exception": false,
     "start_time": "2019-03-06T01:25:44.570506",
     "status": "completed"
    },
    "tags": []
   },
   "outputs": [
    {
     "data": {
      "text/html": [
       "<div>\n",
       "<style scoped>\n",
       "    .dataframe tbody tr th:only-of-type {\n",
       "        vertical-align: middle;\n",
       "    }\n",
       "\n",
       "    .dataframe tbody tr th {\n",
       "        vertical-align: top;\n",
       "    }\n",
       "\n",
       "    .dataframe thead th {\n",
       "        text-align: right;\n",
       "    }\n",
       "</style>\n",
       "<table border=\"1\" class=\"dataframe\">\n",
       "  <thead>\n",
       "    <tr style=\"text-align: right;\">\n",
       "      <th></th>\n",
       "      <th>bot_human</th>\n",
       "      <th>text</th>\n",
       "    </tr>\n",
       "  </thead>\n",
       "  <tbody>\n",
       "    <tr>\n",
       "      <th>0</th>\n",
       "      <td>bot</td>\n",
       "      <td>Cinco vicios al volante que comprometen la seg...</td>\n",
       "    </tr>\n",
       "    <tr>\n",
       "      <th>1</th>\n",
       "      <td>bot</td>\n",
       "      <td>HdC Viñetas: “El profe de prácticas” http://t....</td>\n",
       "    </tr>\n",
       "    <tr>\n",
       "      <th>2</th>\n",
       "      <td>human</td>\n",
       "      <td>RT @ISosprisiones: @PP_Asturias @pablocasado_ ...</td>\n",
       "    </tr>\n",
       "    <tr>\n",
       "      <th>3</th>\n",
       "      <td>bot</td>\n",
       "      <td>RT @hacerfotos: #Fotografia creativa y artísti...</td>\n",
       "    </tr>\n",
       "    <tr>\n",
       "      <th>4</th>\n",
       "      <td>bot</td>\n",
       "      <td>📄📣 Oferta de #empleo de 3 ingeniera/o eléctric...</td>\n",
       "    </tr>\n",
       "  </tbody>\n",
       "</table>\n",
       "</div>"
      ],
      "text/plain": [
       "  bot_human                                               text\n",
       "0       bot  Cinco vicios al volante que comprometen la seg...\n",
       "1       bot  HdC Viñetas: “El profe de prácticas” http://t....\n",
       "2     human  RT @ISosprisiones: @PP_Asturias @pablocasado_ ...\n",
       "3       bot  RT @hacerfotos: #Fotografia creativa y artísti...\n",
       "4       bot  📄📣 Oferta de #empleo de 3 ingeniera/o eléctric..."
      ]
     },
     "execution_count": 8,
     "metadata": {},
     "output_type": "execute_result"
    }
   ],
   "source": [
    "df.head()"
   ]
  },
  {
   "cell_type": "code",
   "execution_count": 9,
   "metadata": {
    "papermill": {
     "duration": 64.982218,
     "end_time": "2019-03-06T01:26:49.627785",
     "exception": false,
     "start_time": "2019-03-06T01:25:44.645567",
     "status": "completed"
    },
    "tags": []
   },
   "outputs": [],
   "source": [
    "data_lm = TextLMDataBunch.from_csv(data_path, f'all_{TASK}_data.csv')"
   ]
  },
  {
   "cell_type": "code",
   "execution_count": 10,
   "metadata": {
    "papermill": {
     "duration": 78.003024,
     "end_time": "2019-03-06T01:28:07.631017",
     "exception": false,
     "start_time": "2019-03-06T01:26:49.627993",
     "status": "completed"
    },
    "tags": []
   },
   "outputs": [],
   "source": [
    "data_clas = TextClasDataBunch.from_csv(data_path, f'all_{TASK}_data.csv', \n",
    "                                       vocab=data_lm.train_ds.vocab, bs=32)"
   ]
  },
  {
   "cell_type": "code",
   "execution_count": 11,
   "metadata": {
    "papermill": {
     "duration": 13.784961,
     "end_time": "2019-03-06T01:28:21.416175",
     "exception": false,
     "start_time": "2019-03-06T01:28:07.631214",
     "status": "completed"
    },
    "tags": []
   },
   "outputs": [],
   "source": [
    "data_lm.save(f'data_lm_export_{TASK}_{LANG}.pkl')\n",
    "data_clas.save(f'data_clas_export_{TASK}_{LANG}.pkl')"
   ]
  },
  {
   "cell_type": "code",
   "execution_count": 12,
   "metadata": {
    "papermill": {
     "duration": 13.548149,
     "end_time": "2019-03-06T01:28:34.964521",
     "exception": false,
     "start_time": "2019-03-06T01:28:21.416372",
     "status": "completed"
    },
    "tags": []
   },
   "outputs": [],
   "source": [
    "data_lm = load_data(data_path, fname=f'data_lm_export_{TASK}_{LANG}.pkl')\n",
    "data_clas = load_data(data_path, fname=f'data_clas_export_{TASK}_{LANG}.pkl', bs=16)"
   ]
  },
  {
   "cell_type": "code",
   "execution_count": 13,
   "metadata": {
    "papermill": {
     "duration": 2175.2855,
     "end_time": "2019-03-06T02:04:50.250222",
     "exception": false,
     "start_time": "2019-03-06T01:28:34.964722",
     "status": "completed"
    },
    "tags": []
   },
   "outputs": [
    {
     "data": {
      "text/html": [
       "Total time: 36:07 <p><table style='width:375px; margin-bottom:10px'>\n",
       "  <tr>\n",
       "    <th>epoch</th>\n",
       "    <th>train_loss</th>\n",
       "    <th>valid_loss</th>\n",
       "    <th>accuracy</th>\n",
       "    <th>time</th>\n",
       "  </tr>\n",
       "  <tr>\n",
       "    <th>1</th>\n",
       "    <th>3.933308</th>\n",
       "    <th>3.698270</th>\n",
       "    <th>0.402839</th>\n",
       "    <th>03:35</th>\n",
       "  </tr>\n",
       "  <tr>\n",
       "    <th>2</th>\n",
       "    <th>3.656673</th>\n",
       "    <th>3.434427</th>\n",
       "    <th>0.424751</th>\n",
       "    <th>03:36</th>\n",
       "  </tr>\n",
       "  <tr>\n",
       "    <th>3</th>\n",
       "    <th>3.559795</th>\n",
       "    <th>3.379679</th>\n",
       "    <th>0.430466</th>\n",
       "    <th>03:36</th>\n",
       "  </tr>\n",
       "  <tr>\n",
       "    <th>4</th>\n",
       "    <th>3.487991</th>\n",
       "    <th>3.341999</th>\n",
       "    <th>0.436313</th>\n",
       "    <th>03:37</th>\n",
       "  </tr>\n",
       "  <tr>\n",
       "    <th>5</th>\n",
       "    <th>3.411531</th>\n",
       "    <th>3.308774</th>\n",
       "    <th>0.440130</th>\n",
       "    <th>03:37</th>\n",
       "  </tr>\n",
       "  <tr>\n",
       "    <th>6</th>\n",
       "    <th>3.337355</th>\n",
       "    <th>3.273177</th>\n",
       "    <th>0.444390</th>\n",
       "    <th>03:36</th>\n",
       "  </tr>\n",
       "  <tr>\n",
       "    <th>7</th>\n",
       "    <th>3.278041</th>\n",
       "    <th>3.241804</th>\n",
       "    <th>0.447956</th>\n",
       "    <th>03:36</th>\n",
       "  </tr>\n",
       "  <tr>\n",
       "    <th>8</th>\n",
       "    <th>3.204069</th>\n",
       "    <th>3.221429</th>\n",
       "    <th>0.451143</th>\n",
       "    <th>03:36</th>\n",
       "  </tr>\n",
       "  <tr>\n",
       "    <th>9</th>\n",
       "    <th>3.111064</th>\n",
       "    <th>3.211484</th>\n",
       "    <th>0.452464</th>\n",
       "    <th>03:36</th>\n",
       "  </tr>\n",
       "  <tr>\n",
       "    <th>10</th>\n",
       "    <th>3.067622</th>\n",
       "    <th>3.210755</th>\n",
       "    <th>0.452607</th>\n",
       "    <th>03:36</th>\n",
       "  </tr>\n",
       "</table>\n"
      ],
      "text/plain": [
       "<IPython.core.display.HTML object>"
      ]
     },
     "metadata": {},
     "output_type": "display_data"
    }
   ],
   "source": [
    "if LANG == 'es':\n",
    "    weights_pretrained = 'model-30k-vocab-noqrnn'\n",
    "    itos_pretrained = 'itos_pretrained'\n",
    "    pretained_data = (weights_pretrained, itos_pretrained)\n",
    "    learn = language_model_learner(data_lm, AWD_LSTM, drop_mult=0.5, pretrained_fnames=pretained_data)\n",
    "else:\n",
    "    learn = language_model_learner(data_lm, AWD_LSTM, drop_mult=0.5)\n",
    "learn.fit_one_cycle(10, 1e-2)"
   ]
  },
  {
   "cell_type": "code",
   "execution_count": 14,
   "metadata": {
    "papermill": {
     "duration": 2405.453884,
     "end_time": "2019-03-06T02:44:55.704304",
     "exception": false,
     "start_time": "2019-03-06T02:04:50.250420",
     "status": "completed"
    },
    "tags": []
   },
   "outputs": [
    {
     "data": {
      "text/html": [
       "Total time: 40:05 <p><table style='width:375px; margin-bottom:10px'>\n",
       "  <tr>\n",
       "    <th>epoch</th>\n",
       "    <th>train_loss</th>\n",
       "    <th>valid_loss</th>\n",
       "    <th>accuracy</th>\n",
       "    <th>time</th>\n",
       "  </tr>\n",
       "  <tr>\n",
       "    <th>1</th>\n",
       "    <th>2.950222</th>\n",
       "    <th>3.139000</th>\n",
       "    <th>0.461666</th>\n",
       "    <th>03:59</th>\n",
       "  </tr>\n",
       "  <tr>\n",
       "    <th>2</th>\n",
       "    <th>2.913360</th>\n",
       "    <th>3.079637</th>\n",
       "    <th>0.469841</th>\n",
       "    <th>04:00</th>\n",
       "  </tr>\n",
       "  <tr>\n",
       "    <th>3</th>\n",
       "    <th>2.868701</th>\n",
       "    <th>3.039320</th>\n",
       "    <th>0.476849</th>\n",
       "    <th>04:00</th>\n",
       "  </tr>\n",
       "  <tr>\n",
       "    <th>4</th>\n",
       "    <th>2.794501</th>\n",
       "    <th>3.014459</th>\n",
       "    <th>0.481849</th>\n",
       "    <th>04:00</th>\n",
       "  </tr>\n",
       "  <tr>\n",
       "    <th>5</th>\n",
       "    <th>2.733150</th>\n",
       "    <th>2.996200</th>\n",
       "    <th>0.486163</th>\n",
       "    <th>04:00</th>\n",
       "  </tr>\n",
       "  <tr>\n",
       "    <th>6</th>\n",
       "    <th>2.660608</th>\n",
       "    <th>2.987066</th>\n",
       "    <th>0.489013</th>\n",
       "    <th>04:00</th>\n",
       "  </tr>\n",
       "  <tr>\n",
       "    <th>7</th>\n",
       "    <th>2.607962</th>\n",
       "    <th>2.984985</th>\n",
       "    <th>0.490976</th>\n",
       "    <th>04:00</th>\n",
       "  </tr>\n",
       "  <tr>\n",
       "    <th>8</th>\n",
       "    <th>2.530773</th>\n",
       "    <th>2.986335</th>\n",
       "    <th>0.492334</th>\n",
       "    <th>03:59</th>\n",
       "  </tr>\n",
       "  <tr>\n",
       "    <th>9</th>\n",
       "    <th>2.490481</th>\n",
       "    <th>2.987422</th>\n",
       "    <th>0.492801</th>\n",
       "    <th>04:01</th>\n",
       "  </tr>\n",
       "  <tr>\n",
       "    <th>10</th>\n",
       "    <th>2.478832</th>\n",
       "    <th>2.990790</th>\n",
       "    <th>0.492858</th>\n",
       "    <th>04:00</th>\n",
       "  </tr>\n",
       "</table>\n"
      ],
      "text/plain": [
       "<IPython.core.display.HTML object>"
      ]
     },
     "metadata": {},
     "output_type": "display_data"
    }
   ],
   "source": [
    "learn.unfreeze()\n",
    "learn.fit_one_cycle(10, 1e-3)"
   ]
  },
  {
   "cell_type": "code",
   "execution_count": 15,
   "metadata": {
    "papermill": {
     "duration": 0.391259,
     "end_time": "2019-03-06T02:44:56.095780",
     "exception": false,
     "start_time": "2019-03-06T02:44:55.704521",
     "status": "completed"
    },
    "tags": []
   },
   "outputs": [
    {
     "data": {
      "text/plain": [
       "'Nació en 1910 como coño , y quiero su cumpleaños . xxbos RT @barbieharp : De mis sentimientos no se trata de disimular lo que sentimos , absolutamente lo mismo , de lo que están pasando . xxbos RT cueros : Qué es el @2010misterchip 💙 😜 💛'"
      ]
     },
     "execution_count": 15,
     "metadata": {},
     "output_type": "execute_result"
    }
   ],
   "source": [
    "if LANG == 'es':\n",
    "    test_string = \"Nació en 1910\"\n",
    "else:\n",
    "    test_string = \"He was born in 1910\"\n",
    "learn.predict(test_string, n_words=50)"
   ]
  },
  {
   "cell_type": "code",
   "execution_count": 16,
   "metadata": {
    "papermill": {
     "duration": 1.790228,
     "end_time": "2019-03-06T02:44:57.886261",
     "exception": false,
     "start_time": "2019-03-06T02:44:56.096033",
     "status": "completed"
    },
    "tags": []
   },
   "outputs": [],
   "source": [
    "learn.save_encoder(f'ft_enc_{TASK}_{LANG}')"
   ]
  },
  {
   "cell_type": "code",
   "execution_count": 17,
   "metadata": {
    "papermill": {
     "duration": 2.435146,
     "end_time": "2019-03-06T02:45:00.321619",
     "exception": false,
     "start_time": "2019-03-06T02:44:57.886473",
     "status": "completed"
    },
    "tags": []
   },
   "outputs": [],
   "source": [
    "learn_class = text_classifier_learner(data_clas, AWD_LSTM, drop_mult=0.5)\n",
    "learn_class.load_encoder(f'ft_enc_{TASK}_{LANG}')"
   ]
  },
  {
   "cell_type": "code",
   "execution_count": 18,
   "metadata": {
    "papermill": {
     "duration": 9.535819,
     "end_time": "2019-03-06T02:45:09.857645",
     "exception": false,
     "start_time": "2019-03-06T02:45:00.321826",
     "status": "completed"
    },
    "tags": []
   },
   "outputs": [
    {
     "data": {
      "text/html": [
       "<table border=\"1\" class=\"dataframe\">\n",
       "  <thead>\n",
       "    <tr style=\"text-align: right;\">\n",
       "      <th>text</th>\n",
       "      <th>target</th>\n",
       "    </tr>\n",
       "  </thead>\n",
       "  <tbody>\n",
       "    <tr>\n",
       "      <td>xxbos xxup rt @juanmalpr : 🇮 🇷 🇮 🇷 🇮 🇷 🇮 🇷 🇮 🇷 🇮 🇷 🇮 🇷 🇮 🇷 🇮 🇷 🇮 🇷 🇮 🇷 🇮 🇷 🇮 🇷 🇮 🇷 🇮 🇷 🇮 🇷 🇮 🇷 🇮 🇷 🇮 🇷 🇮 🇷 🇮 🇷 🇮 🇷 🇮 🇷 🇮 🇷 🇮 🇷 🇮 🇷 🇮 🇷 🇮 🇷 🇮 🇷 🇮 🇷 🇮 🇷 🇮 🇷 🇮</td>\n",
       "      <td>bot</td>\n",
       "    </tr>\n",
       "    <tr>\n",
       "      <td>xxbos xxmaj caja de xxmaj luz de xxmaj cine xxup led , xxup a4 xxmaj xxunk xxup led xxmaj box xxmaj cambio de xxmaj xxunk , xxmaj caja de xxmaj luz xxmaj cine 30 % reservadas xxrep 5 🌟 ❌ xxmaj precio : xxup eur 22,99 ✅ xxmaj precio de la oferta xxup eur xxunk 📉 xxmaj ahorras : xxup eur 4,60 ( 20%) 🔰 xxmaj enlace : https :</td>\n",
       "      <td>bot</td>\n",
       "    </tr>\n",
       "    <tr>\n",
       "      <td>xxbos xxmaj se xxmaj tragan xxmaj viva a xxmaj amara xxmaj la xxmaj negra xxmaj por xxmaj su xxmaj nuevo xxmaj look , xxmaj dicen xxmaj que xxmaj si xxmaj fue xxmaj un xxmaj suaper xxmaj que xxmaj se xxmaj puso xxmaj en xxmaj la … http : / / t.co / xxunk xxmaj unete @teampgv</td>\n",
       "      <td>bot</td>\n",
       "    </tr>\n",
       "    <tr>\n",
       "      <td>xxbos xxup rt xxunk : ¿ xxup donde xxup esta xxup el xxup xxunk xxup mejor xxup jugador xxup de xxup la xxup historia ? ¿ xxup donde xxup esta xxup el xxup the xxup best ? ¿ xxup donde xxup esta xxup el xxup xxunk xxup de xxup oro ?</td>\n",
       "      <td>human</td>\n",
       "    </tr>\n",
       "    <tr>\n",
       "      <td>xxbos xxmaj mozart xxmaj la xxmaj para ft xxmaj shadow xxmaj blow – xxmaj tu xxmaj con xxmaj el y xxmaj yo xxmaj con xxmaj ella ( xxmaj audio + xxmaj letras ) http : / / t.co / xxunk xxmaj unete @teampgv http : / / t.co / xxunk</td>\n",
       "      <td>bot</td>\n",
       "    </tr>\n",
       "  </tbody>\n",
       "</table>"
      ],
      "text/plain": [
       "<IPython.core.display.HTML object>"
      ]
     },
     "metadata": {},
     "output_type": "display_data"
    }
   ],
   "source": [
    "data_clas.show_batch()"
   ]
  },
  {
   "cell_type": "code",
   "execution_count": 19,
   "metadata": {
    "papermill": {
     "duration": 2371.717522,
     "end_time": "2019-03-06T03:24:41.575360",
     "exception": false,
     "start_time": "2019-03-06T02:45:09.857838",
     "status": "completed"
    },
    "tags": []
   },
   "outputs": [
    {
     "data": {
      "text/html": [
       "Total time: 39:31 <p><table style='width:375px; margin-bottom:10px'>\n",
       "  <tr>\n",
       "    <th>epoch</th>\n",
       "    <th>train_loss</th>\n",
       "    <th>valid_loss</th>\n",
       "    <th>accuracy</th>\n",
       "    <th>time</th>\n",
       "  </tr>\n",
       "  <tr>\n",
       "    <th>1</th>\n",
       "    <th>0.435762</th>\n",
       "    <th>0.288846</th>\n",
       "    <th>0.884435</th>\n",
       "    <th>03:52</th>\n",
       "  </tr>\n",
       "  <tr>\n",
       "    <th>2</th>\n",
       "    <th>0.365280</th>\n",
       "    <th>0.322353</th>\n",
       "    <th>0.867186</th>\n",
       "    <th>04:04</th>\n",
       "  </tr>\n",
       "  <tr>\n",
       "    <th>3</th>\n",
       "    <th>0.421884</th>\n",
       "    <th>0.297878</th>\n",
       "    <th>0.876419</th>\n",
       "    <th>03:55</th>\n",
       "  </tr>\n",
       "  <tr>\n",
       "    <th>4</th>\n",
       "    <th>0.433460</th>\n",
       "    <th>0.292421</th>\n",
       "    <th>0.881252</th>\n",
       "    <th>03:58</th>\n",
       "  </tr>\n",
       "  <tr>\n",
       "    <th>5</th>\n",
       "    <th>0.405059</th>\n",
       "    <th>0.309969</th>\n",
       "    <th>0.874685</th>\n",
       "    <th>03:55</th>\n",
       "  </tr>\n",
       "  <tr>\n",
       "    <th>6</th>\n",
       "    <th>0.436504</th>\n",
       "    <th>0.285140</th>\n",
       "    <th>0.887819</th>\n",
       "    <th>03:58</th>\n",
       "  </tr>\n",
       "  <tr>\n",
       "    <th>7</th>\n",
       "    <th>0.418633</th>\n",
       "    <th>0.275719</th>\n",
       "    <th>0.888135</th>\n",
       "    <th>03:56</th>\n",
       "  </tr>\n",
       "  <tr>\n",
       "    <th>8</th>\n",
       "    <th>0.380485</th>\n",
       "    <th>0.257837</th>\n",
       "    <th>0.894518</th>\n",
       "    <th>03:55</th>\n",
       "  </tr>\n",
       "  <tr>\n",
       "    <th>9</th>\n",
       "    <th>0.361519</th>\n",
       "    <th>0.255442</th>\n",
       "    <th>0.895602</th>\n",
       "    <th>03:56</th>\n",
       "  </tr>\n",
       "  <tr>\n",
       "    <th>10</th>\n",
       "    <th>0.364902</th>\n",
       "    <th>0.250042</th>\n",
       "    <th>0.898318</th>\n",
       "    <th>03:56</th>\n",
       "  </tr>\n",
       "</table>\n"
      ],
      "text/plain": [
       "<IPython.core.display.HTML object>"
      ]
     },
     "metadata": {},
     "output_type": "display_data"
    }
   ],
   "source": [
    "learn_class.fit_one_cycle(10, 1e-2)"
   ]
  },
  {
   "cell_type": "code",
   "execution_count": 20,
   "metadata": {
    "papermill": {
     "duration": 5.047967,
     "end_time": "2019-03-06T03:24:46.623527",
     "exception": false,
     "start_time": "2019-03-06T03:24:41.575560",
     "status": "completed"
    },
    "tags": []
   },
   "outputs": [],
   "source": [
    "learn.save(f'model_stage_1_{TASK}_{LANG}')"
   ]
  },
  {
   "cell_type": "code",
   "execution_count": null,
   "metadata": {
    "papermill": {
     "duration": 4e-06,
     "end_time": "2019-03-06T03:24:46.623724",
     "exception": null,
     "start_time": "2019-03-06T03:24:46.623720",
     "status": "completed"
    },
    "tags": []
   },
   "outputs": [],
   "source": []
  }
 ],
 "metadata": {
  "celltoolbar": "Tags",
  "kernelspec": {
   "display_name": "Python 3",
   "language": "python",
   "name": "python3"
  },
  "language_info": {
   "codemirror_mode": {
    "name": "ipython",
    "version": 3
   },
   "file_extension": ".py",
   "mimetype": "text/x-python",
   "name": "python",
   "nbconvert_exporter": "python",
   "pygments_lexer": "ipython3",
   "version": "3.6.8"
  },
  "papermill": {
   "duration": 7147.082336,
   "end_time": "2019-03-06T03:24:48.515500",
   "environment_variables": {},
   "exception": false,
   "output_path": "papermill_out/fastai_nb_bot_human_es.ipynb",
   "parameters": {
    "LANG": "es",
    "TASK": "bot_human"
   },
   "start_time": "2019-03-06T01:25:41.433164",
   "version": "0.14.2"
  }
 },
 "nbformat": 4,
 "nbformat_minor": 2
}