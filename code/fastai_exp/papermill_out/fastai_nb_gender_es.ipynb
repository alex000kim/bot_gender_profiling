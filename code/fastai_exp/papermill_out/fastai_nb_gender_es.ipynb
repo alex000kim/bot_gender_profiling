{
 "cells": [
  {
   "cell_type": "code",
   "execution_count": 1,
   "metadata": {
    "papermill": {
     "duration": 0.013115,
     "end_time": "2019-03-05T21:21:06.597470",
     "exception": false,
     "start_time": "2019-03-05T21:21:06.584355",
     "status": "completed"
    },
    "tags": [
     "parameters"
    ]
   },
   "outputs": [],
   "source": [
    "LANG = 'es' # or 'es'\n",
    "TASK = 'gender' # or 'bot_human'"
   ]
  },
  {
   "cell_type": "code",
   "execution_count": 2,
   "metadata": {
    "papermill": {
     "duration": 0.012848,
     "end_time": "2019-03-05T21:21:06.638886",
     "exception": false,
     "start_time": "2019-03-05T21:21:06.626038",
     "status": "completed"
    },
    "tags": [
     "injected-parameters"
    ]
   },
   "outputs": [],
   "source": [
    "# Parameters\n",
    "LANG = \"es\"\n",
    "TASK = \"gender\"\n"
   ]
  },
  {
   "cell_type": "code",
   "execution_count": 3,
   "metadata": {
    "papermill": {
     "duration": 1.498655,
     "end_time": "2019-03-05T21:21:08.180118",
     "exception": false,
     "start_time": "2019-03-05T21:21:06.681463",
     "status": "completed"
    },
    "tags": []
   },
   "outputs": [],
   "source": [
    "import os\n",
    "from fastai.text import * "
   ]
  },
  {
   "cell_type": "code",
   "execution_count": 4,
   "metadata": {
    "papermill": {
     "duration": 0.014252,
     "end_time": "2019-03-05T21:21:08.194571",
     "exception": false,
     "start_time": "2019-03-05T21:21:08.180319",
     "status": "completed"
    },
    "tags": []
   },
   "outputs": [
    {
     "data": {
      "text/plain": [
       "1"
      ]
     },
     "execution_count": 4,
     "metadata": {},
     "output_type": "execute_result"
    }
   ],
   "source": [
    "torch.cuda.device_count()"
   ]
  },
  {
   "cell_type": "code",
   "execution_count": 5,
   "metadata": {
    "papermill": {
     "duration": 0.012876,
     "end_time": "2019-03-05T21:21:08.250886",
     "exception": false,
     "start_time": "2019-03-05T21:21:08.238010",
     "status": "completed"
    },
    "tags": []
   },
   "outputs": [],
   "source": [
    "proj_path = Path(os.getcwd()).parents[1]"
   ]
  },
  {
   "cell_type": "code",
   "execution_count": 6,
   "metadata": {
    "papermill": {
     "duration": 0.012839,
     "end_time": "2019-03-05T21:21:08.305636",
     "exception": false,
     "start_time": "2019-03-05T21:21:08.292797",
     "status": "completed"
    },
    "tags": []
   },
   "outputs": [],
   "source": [
    "data_path = proj_path/f'clean_data_csv_{LANG}'"
   ]
  },
  {
   "cell_type": "code",
   "execution_count": 7,
   "metadata": {
    "papermill": {
     "duration": 0.387047,
     "end_time": "2019-03-05T21:21:08.733379",
     "exception": false,
     "start_time": "2019-03-05T21:21:08.346332",
     "status": "completed"
    },
    "tags": []
   },
   "outputs": [],
   "source": [
    "df = pd.read_csv(data_path/f'all_{TASK}_data.csv')"
   ]
  },
  {
   "cell_type": "code",
   "execution_count": 8,
   "metadata": {
    "papermill": {
     "duration": 0.013573,
     "end_time": "2019-03-05T21:21:08.747157",
     "exception": false,
     "start_time": "2019-03-05T21:21:08.733584",
     "status": "completed"
    },
    "tags": []
   },
   "outputs": [
    {
     "data": {
      "text/html": [
       "<div>\n",
       "<style scoped>\n",
       "    .dataframe tbody tr th:only-of-type {\n",
       "        vertical-align: middle;\n",
       "    }\n",
       "\n",
       "    .dataframe tbody tr th {\n",
       "        vertical-align: top;\n",
       "    }\n",
       "\n",
       "    .dataframe thead th {\n",
       "        text-align: right;\n",
       "    }\n",
       "</style>\n",
       "<table border=\"1\" class=\"dataframe\">\n",
       "  <thead>\n",
       "    <tr style=\"text-align: right;\">\n",
       "      <th></th>\n",
       "      <th>gender</th>\n",
       "      <th>text</th>\n",
       "    </tr>\n",
       "  </thead>\n",
       "  <tbody>\n",
       "    <tr>\n",
       "      <th>0</th>\n",
       "      <td>female</td>\n",
       "      <td>RT @ISosprisiones: @PP_Asturias @pablocasado_ ...</td>\n",
       "    </tr>\n",
       "    <tr>\n",
       "      <th>1</th>\n",
       "      <td>male</td>\n",
       "      <td>RT @ElNacionalWeb: Nos montan en camiones como...</td>\n",
       "    </tr>\n",
       "    <tr>\n",
       "      <th>2</th>\n",
       "      <td>female</td>\n",
       "      <td>RT @HistoriaEnFotos: Video de la semana: A vec...</td>\n",
       "    </tr>\n",
       "    <tr>\n",
       "      <th>3</th>\n",
       "      <td>female</td>\n",
       "      <td>RT @WinSportsTV: Colombia se ve favorita para ...</td>\n",
       "    </tr>\n",
       "    <tr>\n",
       "      <th>4</th>\n",
       "      <td>female</td>\n",
       "      <td>Os acordáis de cuando vuestra madre os chillab...</td>\n",
       "    </tr>\n",
       "  </tbody>\n",
       "</table>\n",
       "</div>"
      ],
      "text/plain": [
       "   gender                                               text\n",
       "0  female  RT @ISosprisiones: @PP_Asturias @pablocasado_ ...\n",
       "1    male  RT @ElNacionalWeb: Nos montan en camiones como...\n",
       "2  female  RT @HistoriaEnFotos: Video de la semana: A vec...\n",
       "3  female  RT @WinSportsTV: Colombia se ve favorita para ...\n",
       "4  female  Os acordáis de cuando vuestra madre os chillab..."
      ]
     },
     "execution_count": 8,
     "metadata": {},
     "output_type": "execute_result"
    }
   ],
   "source": [
    "df.head()"
   ]
  },
  {
   "cell_type": "code",
   "execution_count": 9,
   "metadata": {
    "papermill": {
     "duration": 30.439984,
     "end_time": "2019-03-05T21:21:39.228080",
     "exception": false,
     "start_time": "2019-03-05T21:21:08.788096",
     "status": "completed"
    },
    "tags": []
   },
   "outputs": [],
   "source": [
    "data_lm = TextLMDataBunch.from_csv(data_path, f'all_{TASK}_data.csv')"
   ]
  },
  {
   "cell_type": "code",
   "execution_count": 10,
   "metadata": {
    "papermill": {
     "duration": 36.21017,
     "end_time": "2019-03-05T21:22:15.438451",
     "exception": false,
     "start_time": "2019-03-05T21:21:39.228281",
     "status": "completed"
    },
    "tags": []
   },
   "outputs": [],
   "source": [
    "data_clas = TextClasDataBunch.from_csv(data_path, f'all_{TASK}_data.csv', \n",
    "                                       vocab=data_lm.train_ds.vocab, bs=32)"
   ]
  },
  {
   "cell_type": "code",
   "execution_count": 11,
   "metadata": {
    "papermill": {
     "duration": 7.301797,
     "end_time": "2019-03-05T21:22:22.740449",
     "exception": false,
     "start_time": "2019-03-05T21:22:15.438652",
     "status": "completed"
    },
    "tags": []
   },
   "outputs": [],
   "source": [
    "data_lm.save(f'data_lm_export_{TASK}_{LANG}.pkl')\n",
    "data_clas.save(f'data_clas_export_{TASK}_{LANG}.pkl')"
   ]
  },
  {
   "cell_type": "code",
   "execution_count": 12,
   "metadata": {
    "papermill": {
     "duration": 6.538958,
     "end_time": "2019-03-05T21:22:29.279604",
     "exception": false,
     "start_time": "2019-03-05T21:22:22.740646",
     "status": "completed"
    },
    "tags": []
   },
   "outputs": [],
   "source": [
    "data_lm = load_data(data_path, fname=f'data_lm_export_{TASK}_{LANG}.pkl')\n",
    "data_clas = load_data(data_path, fname=f'data_clas_export_{TASK}_{LANG}.pkl', bs=16)"
   ]
  },
  {
   "cell_type": "code",
   "execution_count": 13,
   "metadata": {
    "papermill": {
     "duration": 1031.990881,
     "end_time": "2019-03-05T21:39:41.270683",
     "exception": false,
     "start_time": "2019-03-05T21:22:29.279802",
     "status": "completed"
    },
    "tags": []
   },
   "outputs": [
    {
     "data": {
      "text/html": [
       "Total time: 17:01 <p><table style='width:375px; margin-bottom:10px'>\n",
       "  <tr>\n",
       "    <th>epoch</th>\n",
       "    <th>train_loss</th>\n",
       "    <th>valid_loss</th>\n",
       "    <th>accuracy</th>\n",
       "    <th>time</th>\n",
       "  </tr>\n",
       "  <tr>\n",
       "    <th>1</th>\n",
       "    <th>4.553052</th>\n",
       "    <th>4.207654</th>\n",
       "    <th>0.340441</th>\n",
       "    <th>01:41</th>\n",
       "  </tr>\n",
       "  <tr>\n",
       "    <th>2</th>\n",
       "    <th>4.219388</th>\n",
       "    <th>3.962740</th>\n",
       "    <th>0.354349</th>\n",
       "    <th>01:42</th>\n",
       "  </tr>\n",
       "  <tr>\n",
       "    <th>3</th>\n",
       "    <th>4.098762</th>\n",
       "    <th>3.912495</th>\n",
       "    <th>0.355978</th>\n",
       "    <th>01:43</th>\n",
       "  </tr>\n",
       "  <tr>\n",
       "    <th>4</th>\n",
       "    <th>3.973577</th>\n",
       "    <th>3.886660</th>\n",
       "    <th>0.357998</th>\n",
       "    <th>01:42</th>\n",
       "  </tr>\n",
       "  <tr>\n",
       "    <th>5</th>\n",
       "    <th>3.864366</th>\n",
       "    <th>3.865171</th>\n",
       "    <th>0.360004</th>\n",
       "    <th>01:41</th>\n",
       "  </tr>\n",
       "  <tr>\n",
       "    <th>6</th>\n",
       "    <th>3.744723</th>\n",
       "    <th>3.849120</th>\n",
       "    <th>0.361621</th>\n",
       "    <th>01:41</th>\n",
       "  </tr>\n",
       "  <tr>\n",
       "    <th>7</th>\n",
       "    <th>3.638474</th>\n",
       "    <th>3.836219</th>\n",
       "    <th>0.363307</th>\n",
       "    <th>01:42</th>\n",
       "  </tr>\n",
       "  <tr>\n",
       "    <th>8</th>\n",
       "    <th>3.535268</th>\n",
       "    <th>3.825939</th>\n",
       "    <th>0.365145</th>\n",
       "    <th>01:42</th>\n",
       "  </tr>\n",
       "  <tr>\n",
       "    <th>9</th>\n",
       "    <th>3.454362</th>\n",
       "    <th>3.823777</th>\n",
       "    <th>0.365321</th>\n",
       "    <th>01:42</th>\n",
       "  </tr>\n",
       "  <tr>\n",
       "    <th>10</th>\n",
       "    <th>3.409867</th>\n",
       "    <th>3.823786</th>\n",
       "    <th>0.365490</th>\n",
       "    <th>01:41</th>\n",
       "  </tr>\n",
       "</table>\n"
      ],
      "text/plain": [
       "<IPython.core.display.HTML object>"
      ]
     },
     "metadata": {},
     "output_type": "display_data"
    }
   ],
   "source": [
    "if LANG == 'es':\n",
    "    weights_pretrained = 'model-30k-vocab-noqrnn'\n",
    "    itos_pretrained = 'itos_pretrained'\n",
    "    pretained_data = (weights_pretrained, itos_pretrained)\n",
    "    learn = language_model_learner(data_lm, AWD_LSTM, drop_mult=0.5, pretrained_fnames=pretained_data)\n",
    "else:\n",
    "    learn = language_model_learner(data_lm, AWD_LSTM, drop_mult=0.5)\n",
    "learn.fit_one_cycle(10, 1e-2)"
   ]
  },
  {
   "cell_type": "code",
   "execution_count": 14,
   "metadata": {
    "papermill": {
     "duration": 1138.673816,
     "end_time": "2019-03-05T21:58:39.944687",
     "exception": false,
     "start_time": "2019-03-05T21:39:41.270871",
     "status": "completed"
    },
    "tags": []
   },
   "outputs": [
    {
     "data": {
      "text/html": [
       "Total time: 18:58 <p><table style='width:375px; margin-bottom:10px'>\n",
       "  <tr>\n",
       "    <th>epoch</th>\n",
       "    <th>train_loss</th>\n",
       "    <th>valid_loss</th>\n",
       "    <th>accuracy</th>\n",
       "    <th>time</th>\n",
       "  </tr>\n",
       "  <tr>\n",
       "    <th>1</th>\n",
       "    <th>3.310106</th>\n",
       "    <th>3.807929</th>\n",
       "    <th>0.368575</th>\n",
       "    <th>01:53</th>\n",
       "  </tr>\n",
       "  <tr>\n",
       "    <th>2</th>\n",
       "    <th>3.273537</th>\n",
       "    <th>3.780135</th>\n",
       "    <th>0.372578</th>\n",
       "    <th>01:53</th>\n",
       "  </tr>\n",
       "  <tr>\n",
       "    <th>3</th>\n",
       "    <th>3.216732</th>\n",
       "    <th>3.766174</th>\n",
       "    <th>0.375818</th>\n",
       "    <th>01:53</th>\n",
       "  </tr>\n",
       "  <tr>\n",
       "    <th>4</th>\n",
       "    <th>3.128077</th>\n",
       "    <th>3.765678</th>\n",
       "    <th>0.378230</th>\n",
       "    <th>01:53</th>\n",
       "  </tr>\n",
       "  <tr>\n",
       "    <th>5</th>\n",
       "    <th>3.043905</th>\n",
       "    <th>3.777556</th>\n",
       "    <th>0.378581</th>\n",
       "    <th>01:53</th>\n",
       "  </tr>\n",
       "  <tr>\n",
       "    <th>6</th>\n",
       "    <th>2.945120</th>\n",
       "    <th>3.795199</th>\n",
       "    <th>0.378433</th>\n",
       "    <th>01:53</th>\n",
       "  </tr>\n",
       "  <tr>\n",
       "    <th>7</th>\n",
       "    <th>2.850388</th>\n",
       "    <th>3.809687</th>\n",
       "    <th>0.379043</th>\n",
       "    <th>01:53</th>\n",
       "  </tr>\n",
       "  <tr>\n",
       "    <th>8</th>\n",
       "    <th>2.775710</th>\n",
       "    <th>3.831020</th>\n",
       "    <th>0.379381</th>\n",
       "    <th>01:53</th>\n",
       "  </tr>\n",
       "  <tr>\n",
       "    <th>9</th>\n",
       "    <th>2.727722</th>\n",
       "    <th>3.842573</th>\n",
       "    <th>0.379152</th>\n",
       "    <th>01:54</th>\n",
       "  </tr>\n",
       "  <tr>\n",
       "    <th>10</th>\n",
       "    <th>2.701296</th>\n",
       "    <th>3.847342</th>\n",
       "    <th>0.379075</th>\n",
       "    <th>01:54</th>\n",
       "  </tr>\n",
       "</table>\n"
      ],
      "text/plain": [
       "<IPython.core.display.HTML object>"
      ]
     },
     "metadata": {},
     "output_type": "display_data"
    }
   ],
   "source": [
    "learn.unfreeze()\n",
    "learn.fit_one_cycle(10, 1e-3)"
   ]
  },
  {
   "cell_type": "code",
   "execution_count": 15,
   "metadata": {
    "papermill": {
     "duration": 0.621171,
     "end_time": "2019-03-05T21:58:40.566048",
     "exception": false,
     "start_time": "2019-03-05T21:58:39.944877",
     "status": "completed"
    },
    "tags": []
   },
   "outputs": [
    {
     "data": {
      "text/plain": [
       "'Nació en 1910 - Franklin Martínez , Alonso , Morales Solá , Goya del Valle y Kicillof . Los niños menores de la edad de edad . xxbos El bajón a ti no te tiro a la gordura lpm xxbos RT'"
      ]
     },
     "execution_count": 15,
     "metadata": {},
     "output_type": "execute_result"
    }
   ],
   "source": [
    "if LANG == 'es':\n",
    "    test_string = \"Nació en 1910\"\n",
    "else:\n",
    "    test_string = \"He was born in 1910\"\n",
    "learn.predict(test_string, n_words=50)"
   ]
  },
  {
   "cell_type": "code",
   "execution_count": 16,
   "metadata": {
    "papermill": {
     "duration": 2.41189,
     "end_time": "2019-03-05T21:58:42.978137",
     "exception": false,
     "start_time": "2019-03-05T21:58:40.566247",
     "status": "completed"
    },
    "tags": []
   },
   "outputs": [],
   "source": [
    "learn.save_encoder(f'ft_enc_{TASK}_{LANG}')"
   ]
  },
  {
   "cell_type": "code",
   "execution_count": 17,
   "metadata": {
    "papermill": {
     "duration": 1.501211,
     "end_time": "2019-03-05T21:58:44.479548",
     "exception": false,
     "start_time": "2019-03-05T21:58:42.978337",
     "status": "completed"
    },
    "tags": []
   },
   "outputs": [],
   "source": [
    "learn_class = text_classifier_learner(data_clas, AWD_LSTM, drop_mult=0.5)\n",
    "learn_class.load_encoder(f'ft_enc_{TASK}_{LANG}')"
   ]
  },
  {
   "cell_type": "code",
   "execution_count": 18,
   "metadata": {
    "papermill": {
     "duration": 4.825998,
     "end_time": "2019-03-05T21:58:49.305814",
     "exception": false,
     "start_time": "2019-03-05T21:58:44.479816",
     "status": "completed"
    },
    "tags": []
   },
   "outputs": [
    {
     "data": {
      "text/html": [
       "<table border=\"1\" class=\"dataframe\">\n",
       "  <thead>\n",
       "    <tr style=\"text-align: right;\">\n",
       "      <th>text</th>\n",
       "      <th>target</th>\n",
       "    </tr>\n",
       "  </thead>\n",
       "  <tbody>\n",
       "    <tr>\n",
       "      <td>xxbos 🐶 🐺 🐱 🐭 🐹 🐰 🐸 🐯 xxunk 🐻 🐷 🐽 xxunk 🐗 🐵 🐒 🐴 🐑 🐘 🐼 🐧 🐦 🐤 🐥 🐣 🐔 🐍 🐢 🐛 🐝 xxunk 🐞 xxunk 🐙 🐚 🐠 🐟 🐬 🐳 🐋 xxunk 🐏 🐀 xxunk 🐅 🐇 xxunk 🐎 🐐 🐓 🐕 🐪 xxunk 🐂 🐲 🐡 xxunk 🐫 🐪 🐆 🐈 🐩 🐾 💐 🌸 🌷 🍀 🌹 🌻</td>\n",
       "      <td>female</td>\n",
       "    </tr>\n",
       "    <tr>\n",
       "      <td>xxbos y xxup eso xxup que xxup no xxup alcanzaron a xxup meterle a xxup la ' xxup jep ' xxup aquel xxup oscuro xxup acuerdo xxup xxunk xxup de 14 xxup magistrados xxup adicionales xxup con xxup xxunk xxup específica a xxup militares xxmaj nueva advertencia de xxup cpi por cambios en casos de militares en la xxup jep https : / / t.co / xxunk vía @eltiempo</td>\n",
       "      <td>male</td>\n",
       "    </tr>\n",
       "    <tr>\n",
       "      <td>xxbos @alfanograce xxup esa xxup cosa xxup de xxup descalificar a xxup los xxup demas , xxup que xxup horror ! xxup una xxup señora xxup vieja xxup como xxup vos . xxup xxunk xxup acaso xxup no xxup te xxup enseño xxup buenos xxup modales xxrep 4 ? xxup jaja</td>\n",
       "      <td>male</td>\n",
       "    </tr>\n",
       "    <tr>\n",
       "      <td>xxbos xxup rt @diariodecurwen : xxup roba xxup pero xxup hace xxup xxunk xxup pero xxup hace xxup mal xxup la xxup xxunk xxup pero xxup hace xxup una xxup obra xxup que xxup nadie xxup xxunk xxup pero xxup se xxup demora xxup tres xxup años …</td>\n",
       "      <td>male</td>\n",
       "    </tr>\n",
       "    <tr>\n",
       "      <td>xxbos # xxunk xxmaj paola xxmaj barrientos salió del comercial del xxmaj banco xxmaj galicia # xxmaj censurada ? xxmaj todos sabemos la postura política de la actriz y sabemos quienes son los dueños del xxmaj banco ... # xxunk https : / / t.co / xxunk</td>\n",
       "      <td>male</td>\n",
       "    </tr>\n",
       "  </tbody>\n",
       "</table>"
      ],
      "text/plain": [
       "<IPython.core.display.HTML object>"
      ]
     },
     "metadata": {},
     "output_type": "display_data"
    }
   ],
   "source": [
    "data_clas.show_batch()"
   ]
  },
  {
   "cell_type": "code",
   "execution_count": 19,
   "metadata": {
    "papermill": {
     "duration": 1172.24534,
     "end_time": "2019-03-05T22:18:21.551365",
     "exception": false,
     "start_time": "2019-03-05T21:58:49.306025",
     "status": "completed"
    },
    "tags": []
   },
   "outputs": [
    {
     "data": {
      "text/html": [
       "Total time: 19:32 <p><table style='width:375px; margin-bottom:10px'>\n",
       "  <tr>\n",
       "    <th>epoch</th>\n",
       "    <th>train_loss</th>\n",
       "    <th>valid_loss</th>\n",
       "    <th>accuracy</th>\n",
       "    <th>time</th>\n",
       "  </tr>\n",
       "  <tr>\n",
       "    <th>1</th>\n",
       "    <th>0.656274</th>\n",
       "    <th>0.625571</th>\n",
       "    <th>0.658045</th>\n",
       "    <th>01:55</th>\n",
       "  </tr>\n",
       "  <tr>\n",
       "    <th>2</th>\n",
       "    <th>0.651784</th>\n",
       "    <th>0.658497</th>\n",
       "    <th>0.654645</th>\n",
       "    <th>01:57</th>\n",
       "  </tr>\n",
       "  <tr>\n",
       "    <th>3</th>\n",
       "    <th>0.663898</th>\n",
       "    <th>0.662047</th>\n",
       "    <th>0.644812</th>\n",
       "    <th>01:56</th>\n",
       "  </tr>\n",
       "  <tr>\n",
       "    <th>4</th>\n",
       "    <th>0.660711</th>\n",
       "    <th>0.676940</th>\n",
       "    <th>0.607246</th>\n",
       "    <th>01:54</th>\n",
       "  </tr>\n",
       "  <tr>\n",
       "    <th>5</th>\n",
       "    <th>0.654997</th>\n",
       "    <th>0.738465</th>\n",
       "    <th>0.651112</th>\n",
       "    <th>02:00</th>\n",
       "  </tr>\n",
       "  <tr>\n",
       "    <th>6</th>\n",
       "    <th>0.656423</th>\n",
       "    <th>0.709219</th>\n",
       "    <th>0.656678</th>\n",
       "    <th>01:56</th>\n",
       "  </tr>\n",
       "  <tr>\n",
       "    <th>7</th>\n",
       "    <th>0.661677</th>\n",
       "    <th>0.632961</th>\n",
       "    <th>0.651278</th>\n",
       "    <th>01:59</th>\n",
       "  </tr>\n",
       "  <tr>\n",
       "    <th>8</th>\n",
       "    <th>0.641631</th>\n",
       "    <th>0.618923</th>\n",
       "    <th>0.665744</th>\n",
       "    <th>01:56</th>\n",
       "  </tr>\n",
       "  <tr>\n",
       "    <th>9</th>\n",
       "    <th>0.650935</th>\n",
       "    <th>0.621882</th>\n",
       "    <th>0.663611</th>\n",
       "    <th>01:59</th>\n",
       "  </tr>\n",
       "  <tr>\n",
       "    <th>10</th>\n",
       "    <th>0.647808</th>\n",
       "    <th>0.615506</th>\n",
       "    <th>0.670578</th>\n",
       "    <th>01:54</th>\n",
       "  </tr>\n",
       "</table>\n"
      ],
      "text/plain": [
       "<IPython.core.display.HTML object>"
      ]
     },
     "metadata": {},
     "output_type": "display_data"
    }
   ],
   "source": [
    "learn_class.fit_one_cycle(10, 1e-2)"
   ]
  },
  {
   "cell_type": "code",
   "execution_count": 20,
   "metadata": {
    "papermill": {
     "duration": 6.106407,
     "end_time": "2019-03-05T22:18:27.657964",
     "exception": false,
     "start_time": "2019-03-05T22:18:21.551557",
     "status": "completed"
    },
    "tags": []
   },
   "outputs": [],
   "source": [
    "learn.save(f'model_stage_1_{TASK}_{LANG}')"
   ]
  },
  {
   "cell_type": "code",
   "execution_count": null,
   "metadata": {
    "papermill": {
     "duration": 4e-06,
     "end_time": "2019-03-05T22:18:27.658167",
     "exception": null,
     "start_time": "2019-03-05T22:18:27.658163",
     "status": "completed"
    },
    "tags": []
   },
   "outputs": [],
   "source": []
  }
 ],
 "metadata": {
  "celltoolbar": "Tags",
  "kernelspec": {
   "display_name": "Python 3",
   "language": "python",
   "name": "python3"
  },
  "language_info": {
   "codemirror_mode": {
    "name": "ipython",
    "version": 3
   },
   "file_extension": ".py",
   "mimetype": "text/x-python",
   "name": "python",
   "nbconvert_exporter": "python",
   "pygments_lexer": "ipython3",
   "version": "3.6.8"
  },
  "papermill": {
   "duration": 3443.656755,
   "end_time": "2019-03-05T22:18:29.520671",
   "environment_variables": {},
   "exception": false,
   "output_path": "papermill_out/fastai_nb_gender_es.ipynb",
   "parameters": {
    "LANG": "es",
    "TASK": "gender"
   },
   "start_time": "2019-03-05T21:21:05.863916",
   "version": "0.14.2"
  }
 },
 "nbformat": 4,
 "nbformat_minor": 2
}