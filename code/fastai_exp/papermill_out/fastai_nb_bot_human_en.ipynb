{
 "cells": [
  {
   "cell_type": "code",
   "execution_count": 1,
   "metadata": {
    "papermill": {
     "duration": 0.012279,
     "end_time": "2019-03-05T22:18:31.375587",
     "exception": false,
     "start_time": "2019-03-05T22:18:31.363308",
     "status": "completed"
    },
    "tags": [
     "parameters"
    ]
   },
   "outputs": [],
   "source": [
    "LANG = 'es' # or 'es'\n",
    "TASK = 'gender' # or 'bot_human'"
   ]
  },
  {
   "cell_type": "code",
   "execution_count": 2,
   "metadata": {
    "papermill": {
     "duration": 0.012927,
     "end_time": "2019-03-05T22:18:31.407648",
     "exception": false,
     "start_time": "2019-03-05T22:18:31.394721",
     "status": "completed"
    },
    "tags": [
     "injected-parameters"
    ]
   },
   "outputs": [],
   "source": [
    "# Parameters\n",
    "LANG = \"en\"\n",
    "TASK = \"bot_human\"\n"
   ]
  },
  {
   "cell_type": "code",
   "execution_count": 3,
   "metadata": {
    "papermill": {
     "duration": 1.398494,
     "end_time": "2019-03-05T22:18:32.847068",
     "exception": false,
     "start_time": "2019-03-05T22:18:31.448574",
     "status": "completed"
    },
    "tags": []
   },
   "outputs": [],
   "source": [
    "import os\n",
    "from fastai.text import * "
   ]
  },
  {
   "cell_type": "code",
   "execution_count": 4,
   "metadata": {
    "papermill": {
     "duration": 0.013892,
     "end_time": "2019-03-05T22:18:32.861167",
     "exception": false,
     "start_time": "2019-03-05T22:18:32.847275",
     "status": "completed"
    },
    "tags": []
   },
   "outputs": [
    {
     "data": {
      "text/plain": [
       "1"
      ]
     },
     "execution_count": 4,
     "metadata": {},
     "output_type": "execute_result"
    }
   ],
   "source": [
    "torch.cuda.device_count()"
   ]
  },
  {
   "cell_type": "code",
   "execution_count": 5,
   "metadata": {
    "papermill": {
     "duration": 0.013531,
     "end_time": "2019-03-05T22:18:32.915684",
     "exception": false,
     "start_time": "2019-03-05T22:18:32.902153",
     "status": "completed"
    },
    "tags": []
   },
   "outputs": [],
   "source": [
    "proj_path = Path(os.getcwd()).parents[1]"
   ]
  },
  {
   "cell_type": "code",
   "execution_count": 6,
   "metadata": {
    "papermill": {
     "duration": 0.01733,
     "end_time": "2019-03-05T22:18:32.973975",
     "exception": false,
     "start_time": "2019-03-05T22:18:32.956645",
     "status": "completed"
    },
    "tags": []
   },
   "outputs": [],
   "source": [
    "data_path = proj_path/f'clean_data_csv_{LANG}'"
   ]
  },
  {
   "cell_type": "code",
   "execution_count": 7,
   "metadata": {
    "papermill": {
     "duration": 0.91888,
     "end_time": "2019-03-05T22:18:33.931160",
     "exception": false,
     "start_time": "2019-03-05T22:18:33.012280",
     "status": "completed"
    },
    "tags": []
   },
   "outputs": [],
   "source": [
    "df = pd.read_csv(data_path/f'all_{TASK}_data.csv')"
   ]
  },
  {
   "cell_type": "code",
   "execution_count": 8,
   "metadata": {
    "papermill": {
     "duration": 0.013955,
     "end_time": "2019-03-05T22:18:33.945312",
     "exception": false,
     "start_time": "2019-03-05T22:18:33.931357",
     "status": "completed"
    },
    "tags": []
   },
   "outputs": [
    {
     "data": {
      "text/html": [
       "<div>\n",
       "<style scoped>\n",
       "    .dataframe tbody tr th:only-of-type {\n",
       "        vertical-align: middle;\n",
       "    }\n",
       "\n",
       "    .dataframe tbody tr th {\n",
       "        vertical-align: top;\n",
       "    }\n",
       "\n",
       "    .dataframe thead th {\n",
       "        text-align: right;\n",
       "    }\n",
       "</style>\n",
       "<table border=\"1\" class=\"dataframe\">\n",
       "  <thead>\n",
       "    <tr style=\"text-align: right;\">\n",
       "      <th></th>\n",
       "      <th>bot_human</th>\n",
       "      <th>text</th>\n",
       "    </tr>\n",
       "  </thead>\n",
       "  <tbody>\n",
       "    <tr>\n",
       "      <th>0</th>\n",
       "      <td>human</td>\n",
       "      <td>#NHLAllStar 2018 WHAT IF:East vs west, but the...</td>\n",
       "    </tr>\n",
       "    <tr>\n",
       "      <th>1</th>\n",
       "      <td>bot</td>\n",
       "      <td>Teacher is watchingFollowing @Calum5SOS's upbe...</td>\n",
       "    </tr>\n",
       "    <tr>\n",
       "      <th>2</th>\n",
       "      <td>human</td>\n",
       "      <td>Blue Button 2.0 is a developer-friendly, stand...</td>\n",
       "    </tr>\n",
       "    <tr>\n",
       "      <th>3</th>\n",
       "      <td>bot</td>\n",
       "      <td>Enterprise Sales Executive – New York https://...</td>\n",
       "    </tr>\n",
       "    <tr>\n",
       "      <th>4</th>\n",
       "      <td>bot</td>\n",
       "      <td>The lure of the distant &amp;amp; the difficult is...</td>\n",
       "    </tr>\n",
       "  </tbody>\n",
       "</table>\n",
       "</div>"
      ],
      "text/plain": [
       "  bot_human                                               text\n",
       "0     human  #NHLAllStar 2018 WHAT IF:East vs west, but the...\n",
       "1       bot  Teacher is watchingFollowing @Calum5SOS's upbe...\n",
       "2     human  Blue Button 2.0 is a developer-friendly, stand...\n",
       "3       bot  Enterprise Sales Executive – New York https://...\n",
       "4       bot  The lure of the distant &amp; the difficult is..."
      ]
     },
     "execution_count": 8,
     "metadata": {},
     "output_type": "execute_result"
    }
   ],
   "source": [
    "df.head()"
   ]
  },
  {
   "cell_type": "code",
   "execution_count": 9,
   "metadata": {
    "papermill": {
     "duration": 91.770868,
     "end_time": "2019-03-05T22:20:05.790299",
     "exception": false,
     "start_time": "2019-03-05T22:18:34.019431",
     "status": "completed"
    },
    "tags": []
   },
   "outputs": [],
   "source": [
    "data_lm = TextLMDataBunch.from_csv(data_path, f'all_{TASK}_data.csv')"
   ]
  },
  {
   "cell_type": "code",
   "execution_count": 10,
   "metadata": {
    "papermill": {
     "duration": 110.151213,
     "end_time": "2019-03-05T22:21:55.941714",
     "exception": false,
     "start_time": "2019-03-05T22:20:05.790501",
     "status": "completed"
    },
    "tags": []
   },
   "outputs": [],
   "source": [
    "data_clas = TextClasDataBunch.from_csv(data_path, f'all_{TASK}_data.csv', \n",
    "                                       vocab=data_lm.train_ds.vocab, bs=32)"
   ]
  },
  {
   "cell_type": "code",
   "execution_count": 11,
   "metadata": {
    "papermill": {
     "duration": 18.833166,
     "end_time": "2019-03-05T22:22:14.775070",
     "exception": false,
     "start_time": "2019-03-05T22:21:55.941904",
     "status": "completed"
    },
    "tags": []
   },
   "outputs": [],
   "source": [
    "data_lm.save(f'data_lm_export_{TASK}_{LANG}.pkl')\n",
    "data_clas.save(f'data_clas_export_{TASK}_{LANG}.pkl')"
   ]
  },
  {
   "cell_type": "code",
   "execution_count": 12,
   "metadata": {
    "papermill": {
     "duration": 18.727779,
     "end_time": "2019-03-05T22:22:33.503046",
     "exception": false,
     "start_time": "2019-03-05T22:22:14.775267",
     "status": "completed"
    },
    "tags": []
   },
   "outputs": [],
   "source": [
    "data_lm = load_data(data_path, fname=f'data_lm_export_{TASK}_{LANG}.pkl')\n",
    "data_clas = load_data(data_path, fname=f'data_clas_export_{TASK}_{LANG}.pkl', bs=16)"
   ]
  },
  {
   "cell_type": "code",
   "execution_count": 13,
   "metadata": {
    "papermill": {
     "duration": 3441.136575,
     "end_time": "2019-03-05T23:19:54.639821",
     "exception": false,
     "start_time": "2019-03-05T22:22:33.503246",
     "status": "completed"
    },
    "tags": []
   },
   "outputs": [
    {
     "data": {
      "text/html": [
       "Total time: 57:14 <p><table style='width:375px; margin-bottom:10px'>\n",
       "  <tr>\n",
       "    <th>epoch</th>\n",
       "    <th>train_loss</th>\n",
       "    <th>valid_loss</th>\n",
       "    <th>accuracy</th>\n",
       "    <th>time</th>\n",
       "  </tr>\n",
       "  <tr>\n",
       "    <th>1</th>\n",
       "    <th>3.771986</th>\n",
       "    <th>3.456706</th>\n",
       "    <th>0.438639</th>\n",
       "    <th>05:42</th>\n",
       "  </tr>\n",
       "  <tr>\n",
       "    <th>2</th>\n",
       "    <th>3.509861</th>\n",
       "    <th>3.234374</th>\n",
       "    <th>0.463613</th>\n",
       "    <th>05:43</th>\n",
       "  </tr>\n",
       "  <tr>\n",
       "    <th>3</th>\n",
       "    <th>3.495914</th>\n",
       "    <th>3.206321</th>\n",
       "    <th>0.468985</th>\n",
       "    <th>05:43</th>\n",
       "  </tr>\n",
       "  <tr>\n",
       "    <th>4</th>\n",
       "    <th>3.424221</th>\n",
       "    <th>3.176126</th>\n",
       "    <th>0.473489</th>\n",
       "    <th>05:43</th>\n",
       "  </tr>\n",
       "  <tr>\n",
       "    <th>5</th>\n",
       "    <th>3.422212</th>\n",
       "    <th>3.142359</th>\n",
       "    <th>0.478634</th>\n",
       "    <th>05:43</th>\n",
       "  </tr>\n",
       "  <tr>\n",
       "    <th>6</th>\n",
       "    <th>3.316870</th>\n",
       "    <th>3.103386</th>\n",
       "    <th>0.484236</th>\n",
       "    <th>05:42</th>\n",
       "  </tr>\n",
       "  <tr>\n",
       "    <th>7</th>\n",
       "    <th>3.285370</th>\n",
       "    <th>3.064727</th>\n",
       "    <th>0.489502</th>\n",
       "    <th>05:45</th>\n",
       "  </tr>\n",
       "  <tr>\n",
       "    <th>8</th>\n",
       "    <th>3.192438</th>\n",
       "    <th>3.035506</th>\n",
       "    <th>0.493468</th>\n",
       "    <th>05:42</th>\n",
       "  </tr>\n",
       "  <tr>\n",
       "    <th>9</th>\n",
       "    <th>3.133788</th>\n",
       "    <th>3.021866</th>\n",
       "    <th>0.495513</th>\n",
       "    <th>05:42</th>\n",
       "  </tr>\n",
       "  <tr>\n",
       "    <th>10</th>\n",
       "    <th>3.131229</th>\n",
       "    <th>3.019293</th>\n",
       "    <th>0.495988</th>\n",
       "    <th>05:43</th>\n",
       "  </tr>\n",
       "</table>\n"
      ],
      "text/plain": [
       "<IPython.core.display.HTML object>"
      ]
     },
     "metadata": {},
     "output_type": "display_data"
    }
   ],
   "source": [
    "if LANG == 'es':\n",
    "    weights_pretrained = 'model-30k-vocab-noqrnn'\n",
    "    itos_pretrained = 'itos_pretrained'\n",
    "    pretained_data = (weights_pretrained, itos_pretrained)\n",
    "    learn = language_model_learner(data_lm, AWD_LSTM, drop_mult=0.5, pretrained_fnames=pretained_data)\n",
    "else:\n",
    "    learn = language_model_learner(data_lm, AWD_LSTM, drop_mult=0.5)\n",
    "learn.fit_one_cycle(10, 1e-2)"
   ]
  },
  {
   "cell_type": "code",
   "execution_count": 14,
   "metadata": {
    "papermill": {
     "duration": 3823.803126,
     "end_time": "2019-03-06T00:23:38.443147",
     "exception": false,
     "start_time": "2019-03-05T23:19:54.640021",
     "status": "completed"
    },
    "tags": []
   },
   "outputs": [
    {
     "data": {
      "text/html": [
       "Total time: 1:03:43 <p><table style='width:375px; margin-bottom:10px'>\n",
       "  <tr>\n",
       "    <th>epoch</th>\n",
       "    <th>train_loss</th>\n",
       "    <th>valid_loss</th>\n",
       "    <th>accuracy</th>\n",
       "    <th>time</th>\n",
       "  </tr>\n",
       "  <tr>\n",
       "    <th>1</th>\n",
       "    <th>2.912019</th>\n",
       "    <th>2.897439</th>\n",
       "    <th>0.509604</th>\n",
       "    <th>06:21</th>\n",
       "  </tr>\n",
       "  <tr>\n",
       "    <th>2</th>\n",
       "    <th>2.815040</th>\n",
       "    <th>2.793542</th>\n",
       "    <th>0.527229</th>\n",
       "    <th>06:22</th>\n",
       "  </tr>\n",
       "  <tr>\n",
       "    <th>3</th>\n",
       "    <th>2.757011</th>\n",
       "    <th>2.718249</th>\n",
       "    <th>0.540786</th>\n",
       "    <th>06:21</th>\n",
       "  </tr>\n",
       "  <tr>\n",
       "    <th>4</th>\n",
       "    <th>2.664113</th>\n",
       "    <th>2.667659</th>\n",
       "    <th>0.549933</th>\n",
       "    <th>06:21</th>\n",
       "  </tr>\n",
       "  <tr>\n",
       "    <th>5</th>\n",
       "    <th>2.576340</th>\n",
       "    <th>2.632871</th>\n",
       "    <th>0.556308</th>\n",
       "    <th>06:22</th>\n",
       "  </tr>\n",
       "  <tr>\n",
       "    <th>6</th>\n",
       "    <th>2.545860</th>\n",
       "    <th>2.608598</th>\n",
       "    <th>0.560741</th>\n",
       "    <th>06:21</th>\n",
       "  </tr>\n",
       "  <tr>\n",
       "    <th>7</th>\n",
       "    <th>2.511818</th>\n",
       "    <th>2.594176</th>\n",
       "    <th>0.563756</th>\n",
       "    <th>06:22</th>\n",
       "  </tr>\n",
       "  <tr>\n",
       "    <th>8</th>\n",
       "    <th>2.441012</th>\n",
       "    <th>2.586480</th>\n",
       "    <th>0.565783</th>\n",
       "    <th>06:23</th>\n",
       "  </tr>\n",
       "  <tr>\n",
       "    <th>9</th>\n",
       "    <th>2.394663</th>\n",
       "    <th>2.582797</th>\n",
       "    <th>0.566636</th>\n",
       "    <th>06:23</th>\n",
       "  </tr>\n",
       "  <tr>\n",
       "    <th>10</th>\n",
       "    <th>2.369904</th>\n",
       "    <th>2.583894</th>\n",
       "    <th>0.566799</th>\n",
       "    <th>06:21</th>\n",
       "  </tr>\n",
       "</table>\n"
      ],
      "text/plain": [
       "<IPython.core.display.HTML object>"
      ]
     },
     "metadata": {},
     "output_type": "display_data"
    }
   ],
   "source": [
    "learn.unfreeze()\n",
    "learn.fit_one_cycle(10, 1e-3)"
   ]
  },
  {
   "cell_type": "code",
   "execution_count": 15,
   "metadata": {
    "papermill": {
     "duration": 0.379547,
     "end_time": "2019-03-06T00:23:38.822886",
     "exception": false,
     "start_time": "2019-03-06T00:23:38.443339",
     "status": "completed"
    },
    "tags": []
   },
   "outputs": [
    {
     "data": {
      "text/plain": [
       "\"He was born in 1910 . Leader , then is the earth 's chief of affairs . - El Chapo xxbos @CNN There is some economy related to the appeal of Trump 's spin on @realdonaldtrump . https : / / t.co / bride xxbos @mamaofabean ... Would\""
      ]
     },
     "execution_count": 15,
     "metadata": {},
     "output_type": "execute_result"
    }
   ],
   "source": [
    "if LANG == 'es':\n",
    "    test_string = \"Nació en 1910\"\n",
    "else:\n",
    "    test_string = \"He was born in 1910\"\n",
    "learn.predict(test_string, n_words=50)"
   ]
  },
  {
   "cell_type": "code",
   "execution_count": 16,
   "metadata": {
    "papermill": {
     "duration": 2.029724,
     "end_time": "2019-03-06T00:23:40.852871",
     "exception": false,
     "start_time": "2019-03-06T00:23:38.823147",
     "status": "completed"
    },
    "tags": []
   },
   "outputs": [],
   "source": [
    "learn.save_encoder(f'ft_enc_{TASK}_{LANG}')"
   ]
  },
  {
   "cell_type": "code",
   "execution_count": 17,
   "metadata": {
    "papermill": {
     "duration": 2.746062,
     "end_time": "2019-03-06T00:23:43.599134",
     "exception": false,
     "start_time": "2019-03-06T00:23:40.853072",
     "status": "completed"
    },
    "tags": []
   },
   "outputs": [],
   "source": [
    "learn_class = text_classifier_learner(data_clas, AWD_LSTM, drop_mult=0.5)\n",
    "learn_class.load_encoder(f'ft_enc_{TASK}_{LANG}')"
   ]
  },
  {
   "cell_type": "code",
   "execution_count": 18,
   "metadata": {
    "papermill": {
     "duration": 12.978009,
     "end_time": "2019-03-06T00:23:56.577342",
     "exception": false,
     "start_time": "2019-03-06T00:23:43.599333",
     "status": "completed"
    },
    "tags": []
   },
   "outputs": [
    {
     "data": {
      "text/html": [
       "<table border=\"1\" class=\"dataframe\">\n",
       "  <thead>\n",
       "    <tr style=\"text-align: right;\">\n",
       "      <th>text</th>\n",
       "      <th>target</th>\n",
       "    </tr>\n",
       "  </thead>\n",
       "  <tbody>\n",
       "    <tr>\n",
       "      <td>xxbos @pizster @bendleshnitz xxup proud ❤ ️ ❤ ️ ❤ ️ ❤ ️ ❤ ️ ❤ ️ ❤ ️ ❤ ️ ❤ ️ ❤ ️ ❤ ️ ❤ ️ ❤ ️ ❤ ️ ❤ ️ ❤ ️ ❤ ️ ❤ ️ ❤ ️ ❤ ️ ❤ ️ ❤ ️ ❤ ️ ❤ ️ ❤ ️ ❤ ️ ❤ ️ ❤ ️ ❤ ️ ❤ ️ ❤ ️ ❤ ️ ❤</td>\n",
       "      <td>human</td>\n",
       "    </tr>\n",
       "    <tr>\n",
       "      <td>xxbos xxmaj sr xxmaj software xxmaj analyst : xxmaj xxunk seeks xxmaj sr xxmaj software xxmaj analyst in xxmaj san xxmaj jose , xxup ca to xxmaj xxunk how prdct xxunk &amp; &amp; how its used by xxunk . xxmaj reqs : xxup bs in xxup it , xxup cs , or rltd + 5yrs exp in : xxmaj app xxmaj dev / xxmaj supp or xxunk eng role ;</td>\n",
       "      <td>bot</td>\n",
       "    </tr>\n",
       "    <tr>\n",
       "      <td>xxbos xxmaj big xxmaj banks to xxmaj get xxmaj reprieve from xxmaj volcker xxmaj rule - xxmaj new xxmaj york xxmaj times : xxmaj new xxmaj york xxmaj times xxmaj big xxmaj banks to xxmaj get xxmaj reprieve from xxmaj volcker xxmaj rule xxmaj new xxmaj york xxmaj times xxmaj big banks are getting a big reprieve from a post - crisis rule aimed at curbing risky behavior on xxmaj</td>\n",
       "      <td>bot</td>\n",
       "    </tr>\n",
       "    <tr>\n",
       "      <td>xxbos xxmaj web xxmaj applications xxmaj developer : xxmaj recruiter xxup university xxup of xxup michigan xxmaj location xxmaj ann xxmaj arbor , xxmaj united xxmaj states xxmaj posted 01 xxmaj aug 2018 xxmaj end of advertisement period 13 xxmaj aug 2018 xxmaj ref xxrep 6 * xxmaj job xxmaj type xxmaj professional xxmaj services , xxup it xxmaj services xxmaj contract xxmaj type xxmaj permanent xxmaj hours xxmaj full</td>\n",
       "      <td>bot</td>\n",
       "    </tr>\n",
       "    <tr>\n",
       "      <td>xxbos xxmaj sr . xxup iib xxmaj developer : xxmaj sr . xxup iib xxmaj developer – xxup tgt – xxmaj farmington xxmaj hills , xxup mi | xxrep 10 * xxmaj loading … xxmaj server error , please try again latersorry ! xxmaj it looks like you are in private browsing mode , which is not supported . xxmaj please switch your browser mode . xxmaj sr . xxup</td>\n",
       "      <td>bot</td>\n",
       "    </tr>\n",
       "  </tbody>\n",
       "</table>"
      ],
      "text/plain": [
       "<IPython.core.display.HTML object>"
      ]
     },
     "metadata": {},
     "output_type": "display_data"
    }
   ],
   "source": [
    "data_clas.show_batch()"
   ]
  },
  {
   "cell_type": "code",
   "execution_count": 19,
   "metadata": {
    "papermill": {
     "duration": 3696.042391,
     "end_time": "2019-03-06T01:25:32.619939",
     "exception": false,
     "start_time": "2019-03-06T00:23:56.577548",
     "status": "completed"
    },
    "tags": []
   },
   "outputs": [
    {
     "data": {
      "text/html": [
       "Total time: 1:01:36 <p><table style='width:375px; margin-bottom:10px'>\n",
       "  <tr>\n",
       "    <th>epoch</th>\n",
       "    <th>train_loss</th>\n",
       "    <th>valid_loss</th>\n",
       "    <th>accuracy</th>\n",
       "    <th>time</th>\n",
       "  </tr>\n",
       "  <tr>\n",
       "    <th>1</th>\n",
       "    <th>0.375548</th>\n",
       "    <th>0.228767</th>\n",
       "    <th>0.907744</th>\n",
       "    <th>05:56</th>\n",
       "  </tr>\n",
       "  <tr>\n",
       "    <th>2</th>\n",
       "    <th>0.376072</th>\n",
       "    <th>0.250749</th>\n",
       "    <th>0.899710</th>\n",
       "    <th>06:11</th>\n",
       "  </tr>\n",
       "  <tr>\n",
       "    <th>3</th>\n",
       "    <th>0.390341</th>\n",
       "    <th>0.347208</th>\n",
       "    <th>0.903982</th>\n",
       "    <th>06:08</th>\n",
       "  </tr>\n",
       "  <tr>\n",
       "    <th>4</th>\n",
       "    <th>0.375399</th>\n",
       "    <th>0.232538</th>\n",
       "    <th>0.907744</th>\n",
       "    <th>06:02</th>\n",
       "  </tr>\n",
       "  <tr>\n",
       "    <th>5</th>\n",
       "    <th>0.395030</th>\n",
       "    <th>0.229481</th>\n",
       "    <th>0.913059</th>\n",
       "    <th>06:14</th>\n",
       "  </tr>\n",
       "  <tr>\n",
       "    <th>6</th>\n",
       "    <th>0.369285</th>\n",
       "    <th>0.262488</th>\n",
       "    <th>0.898132</th>\n",
       "    <th>06:13</th>\n",
       "  </tr>\n",
       "  <tr>\n",
       "    <th>7</th>\n",
       "    <th>0.359578</th>\n",
       "    <th>0.221001</th>\n",
       "    <th>0.911639</th>\n",
       "    <th>06:24</th>\n",
       "  </tr>\n",
       "  <tr>\n",
       "    <th>8</th>\n",
       "    <th>0.349343</th>\n",
       "    <th>0.207499</th>\n",
       "    <th>0.916894</th>\n",
       "    <th>05:58</th>\n",
       "  </tr>\n",
       "  <tr>\n",
       "    <th>9</th>\n",
       "    <th>0.324061</th>\n",
       "    <th>0.196541</th>\n",
       "    <th>0.921360</th>\n",
       "    <th>06:22</th>\n",
       "  </tr>\n",
       "  <tr>\n",
       "    <th>10</th>\n",
       "    <th>0.341785</th>\n",
       "    <th>0.192701</th>\n",
       "    <th>0.923921</th>\n",
       "    <th>06:03</th>\n",
       "  </tr>\n",
       "</table>\n"
      ],
      "text/plain": [
       "<IPython.core.display.HTML object>"
      ]
     },
     "metadata": {},
     "output_type": "display_data"
    }
   ],
   "source": [
    "learn_class.fit_one_cycle(10, 1e-2)"
   ]
  },
  {
   "cell_type": "code",
   "execution_count": 20,
   "metadata": {
    "papermill": {
     "duration": 5.226202,
     "end_time": "2019-03-06T01:25:37.846333",
     "exception": false,
     "start_time": "2019-03-06T01:25:32.620131",
     "status": "completed"
    },
    "tags": []
   },
   "outputs": [],
   "source": [
    "learn.save(f'model_stage_1_{TASK}_{LANG}')"
   ]
  },
  {
   "cell_type": "code",
   "execution_count": null,
   "metadata": {
    "papermill": {
     "duration": 4e-06,
     "end_time": "2019-03-06T01:25:37.846528",
     "exception": null,
     "start_time": "2019-03-06T01:25:37.846524",
     "status": "completed"
    },
    "tags": []
   },
   "outputs": [],
   "source": []
  }
 ],
 "metadata": {
  "celltoolbar": "Tags",
  "kernelspec": {
   "display_name": "Python 3",
   "language": "python",
   "name": "python3"
  },
  "language_info": {
   "codemirror_mode": {
    "name": "ipython",
    "version": 3
   },
   "file_extension": ".py",
   "mimetype": "text/x-python",
   "name": "python",
   "nbconvert_exporter": "python",
   "pygments_lexer": "ipython3",
   "version": "3.6.8"
  },
  "papermill": {
   "duration": 11229.665962,
   "end_time": "2019-03-06T01:25:40.304026",
   "environment_variables": {},
   "exception": false,
   "output_path": "papermill_out/fastai_nb_bot_human_en.ipynb",
   "parameters": {
    "LANG": "en",
    "TASK": "bot_human"
   },
   "start_time": "2019-03-05T22:18:30.638064",
   "version": "0.14.2"
  }
 },
 "nbformat": 4,
 "nbformat_minor": 2
}