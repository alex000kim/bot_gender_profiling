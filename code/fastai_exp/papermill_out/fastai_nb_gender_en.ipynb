{
 "cells": [
  {
   "cell_type": "code",
   "execution_count": 1,
   "metadata": {
    "papermill": {
     "duration": 0.009534,
     "end_time": "2019-03-05T19:57:47.765401",
     "exception": false,
     "start_time": "2019-03-05T19:57:47.755867",
     "status": "completed"
    },
    "tags": [
     "parameters"
    ]
   },
   "outputs": [],
   "source": [
    "LANG = 'es' # or 'es'\n",
    "TASK = 'gender' # or 'bot_human'"
   ]
  },
  {
   "cell_type": "code",
   "execution_count": 2,
   "metadata": {
    "papermill": {
     "duration": 0.01359,
     "end_time": "2019-03-05T19:57:47.820308",
     "exception": false,
     "start_time": "2019-03-05T19:57:47.806718",
     "status": "completed"
    },
    "tags": [
     "injected-parameters"
    ]
   },
   "outputs": [],
   "source": [
    "# Parameters\n",
    "LANG = \"en\"\n",
    "TASK = \"gender\"\n"
   ]
  },
  {
   "cell_type": "code",
   "execution_count": 3,
   "metadata": {
    "papermill": {
     "duration": 1.991161,
     "end_time": "2019-03-05T19:57:49.849446",
     "exception": false,
     "start_time": "2019-03-05T19:57:47.858285",
     "status": "completed"
    },
    "tags": []
   },
   "outputs": [],
   "source": [
    "import os\n",
    "from fastai.text import * "
   ]
  },
  {
   "cell_type": "code",
   "execution_count": 4,
   "metadata": {
    "papermill": {
     "duration": 0.014141,
     "end_time": "2019-03-05T19:57:49.863804",
     "exception": false,
     "start_time": "2019-03-05T19:57:49.849663",
     "status": "completed"
    },
    "tags": []
   },
   "outputs": [
    {
     "data": {
      "text/plain": [
       "1"
      ]
     },
     "execution_count": 4,
     "metadata": {},
     "output_type": "execute_result"
    }
   ],
   "source": [
    "torch.cuda.device_count()"
   ]
  },
  {
   "cell_type": "code",
   "execution_count": 5,
   "metadata": {
    "papermill": {
     "duration": 0.01745,
     "end_time": "2019-03-05T19:57:49.938723",
     "exception": false,
     "start_time": "2019-03-05T19:57:49.921273",
     "status": "completed"
    },
    "tags": []
   },
   "outputs": [],
   "source": [
    "proj_path = Path(os.getcwd()).parents[1]"
   ]
  },
  {
   "cell_type": "code",
   "execution_count": 6,
   "metadata": {
    "papermill": {
     "duration": 0.016362,
     "end_time": "2019-03-05T19:57:49.989098",
     "exception": false,
     "start_time": "2019-03-05T19:57:49.972736",
     "status": "completed"
    },
    "tags": []
   },
   "outputs": [],
   "source": [
    "data_path = proj_path/f'clean_data_csv_{LANG}'"
   ]
  },
  {
   "cell_type": "code",
   "execution_count": 7,
   "metadata": {
    "papermill": {
     "duration": 0.546895,
     "end_time": "2019-03-05T19:57:50.573018",
     "exception": false,
     "start_time": "2019-03-05T19:57:50.026123",
     "status": "completed"
    },
    "tags": []
   },
   "outputs": [],
   "source": [
    "df = pd.read_csv(data_path/f'all_{TASK}_data.csv')"
   ]
  },
  {
   "cell_type": "code",
   "execution_count": 8,
   "metadata": {
    "papermill": {
     "duration": 0.018584,
     "end_time": "2019-03-05T19:57:50.591805",
     "exception": false,
     "start_time": "2019-03-05T19:57:50.573221",
     "status": "completed"
    },
    "tags": []
   },
   "outputs": [
    {
     "data": {
      "text/html": [
       "<div>\n",
       "<style scoped>\n",
       "    .dataframe tbody tr th:only-of-type {\n",
       "        vertical-align: middle;\n",
       "    }\n",
       "\n",
       "    .dataframe tbody tr th {\n",
       "        vertical-align: top;\n",
       "    }\n",
       "\n",
       "    .dataframe thead th {\n",
       "        text-align: right;\n",
       "    }\n",
       "</style>\n",
       "<table border=\"1\" class=\"dataframe\">\n",
       "  <thead>\n",
       "    <tr style=\"text-align: right;\">\n",
       "      <th></th>\n",
       "      <th>gender</th>\n",
       "      <th>text</th>\n",
       "    </tr>\n",
       "  </thead>\n",
       "  <tbody>\n",
       "    <tr>\n",
       "      <th>0</th>\n",
       "      <td>male</td>\n",
       "      <td>#NHLAllStar 2018 WHAT IF:East vs west, but the...</td>\n",
       "    </tr>\n",
       "    <tr>\n",
       "      <th>1</th>\n",
       "      <td>female</td>\n",
       "      <td>Blue Button 2.0 is a developer-friendly, stand...</td>\n",
       "    </tr>\n",
       "    <tr>\n",
       "      <th>2</th>\n",
       "      <td>male</td>\n",
       "      <td>Planting churches isn’t about writing checks. ...</td>\n",
       "    </tr>\n",
       "    <tr>\n",
       "      <th>3</th>\n",
       "      <td>female</td>\n",
       "      <td>A bunch of kids just walked through the @POLIT...</td>\n",
       "    </tr>\n",
       "    <tr>\n",
       "      <th>4</th>\n",
       "      <td>female</td>\n",
       "      <td>@Charlottie_96 @Jennamill6 🙌🏼</td>\n",
       "    </tr>\n",
       "  </tbody>\n",
       "</table>\n",
       "</div>"
      ],
      "text/plain": [
       "   gender                                               text\n",
       "0    male  #NHLAllStar 2018 WHAT IF:East vs west, but the...\n",
       "1  female  Blue Button 2.0 is a developer-friendly, stand...\n",
       "2    male  Planting churches isn’t about writing checks. ...\n",
       "3  female  A bunch of kids just walked through the @POLIT...\n",
       "4  female                      @Charlottie_96 @Jennamill6 🙌🏼"
      ]
     },
     "execution_count": 8,
     "metadata": {},
     "output_type": "execute_result"
    }
   ],
   "source": [
    "df.head()"
   ]
  },
  {
   "cell_type": "code",
   "execution_count": 9,
   "metadata": {
    "papermill": {
     "duration": 41.939108,
     "end_time": "2019-03-05T19:58:32.570070",
     "exception": false,
     "start_time": "2019-03-05T19:57:50.630962",
     "status": "completed"
    },
    "tags": []
   },
   "outputs": [],
   "source": [
    "data_lm = TextLMDataBunch.from_csv(data_path, f'all_{TASK}_data.csv')"
   ]
  },
  {
   "cell_type": "code",
   "execution_count": 10,
   "metadata": {
    "papermill": {
     "duration": 49.891415,
     "end_time": "2019-03-05T19:59:22.461692",
     "exception": false,
     "start_time": "2019-03-05T19:58:32.570277",
     "status": "completed"
    },
    "tags": []
   },
   "outputs": [],
   "source": [
    "data_clas = TextClasDataBunch.from_csv(data_path, f'all_{TASK}_data.csv', \n",
    "                                       vocab=data_lm.train_ds.vocab, bs=32)"
   ]
  },
  {
   "cell_type": "code",
   "execution_count": 11,
   "metadata": {
    "papermill": {
     "duration": 9.586213,
     "end_time": "2019-03-05T19:59:32.048133",
     "exception": false,
     "start_time": "2019-03-05T19:59:22.461920",
     "status": "completed"
    },
    "tags": []
   },
   "outputs": [],
   "source": [
    "data_lm.save(f'data_lm_export_{TASK}_{LANG}.pkl')\n",
    "data_clas.save(f'data_clas_export_{TASK}_{LANG}.pkl')"
   ]
  },
  {
   "cell_type": "code",
   "execution_count": 12,
   "metadata": {
    "papermill": {
     "duration": 9.871714,
     "end_time": "2019-03-05T19:59:41.920054",
     "exception": false,
     "start_time": "2019-03-05T19:59:32.048340",
     "status": "completed"
    },
    "tags": []
   },
   "outputs": [],
   "source": [
    "data_lm = load_data(data_path, fname=f'data_lm_export_{TASK}_{LANG}.pkl')\n",
    "data_clas = load_data(data_path, fname=f'data_clas_export_{TASK}_{LANG}.pkl', bs=16)"
   ]
  },
  {
   "cell_type": "code",
   "execution_count": 13,
   "metadata": {
    "papermill": {
     "duration": 1518.707152,
     "end_time": "2019-03-05T20:25:00.627428",
     "exception": false,
     "start_time": "2019-03-05T19:59:41.920276",
     "status": "completed"
    },
    "tags": []
   },
   "outputs": [
    {
     "data": {
      "text/html": [
       "Total time: 25:08 <p><table style='width:375px; margin-bottom:10px'>\n",
       "  <tr>\n",
       "    <th>epoch</th>\n",
       "    <th>train_loss</th>\n",
       "    <th>valid_loss</th>\n",
       "    <th>accuracy</th>\n",
       "    <th>time</th>\n",
       "  </tr>\n",
       "  <tr>\n",
       "    <th>1</th>\n",
       "    <th>4.557302</th>\n",
       "    <th>4.200167</th>\n",
       "    <th>0.343832</th>\n",
       "    <th>02:29</th>\n",
       "  </tr>\n",
       "  <tr>\n",
       "    <th>2</th>\n",
       "    <th>4.273669</th>\n",
       "    <th>3.999150</th>\n",
       "    <th>0.356987</th>\n",
       "    <th>02:30</th>\n",
       "  </tr>\n",
       "  <tr>\n",
       "    <th>3</th>\n",
       "    <th>4.187714</th>\n",
       "    <th>3.977993</th>\n",
       "    <th>0.357642</th>\n",
       "    <th>02:30</th>\n",
       "  </tr>\n",
       "  <tr>\n",
       "    <th>4</th>\n",
       "    <th>4.127624</th>\n",
       "    <th>3.958965</th>\n",
       "    <th>0.359653</th>\n",
       "    <th>02:30</th>\n",
       "  </tr>\n",
       "  <tr>\n",
       "    <th>5</th>\n",
       "    <th>4.043993</th>\n",
       "    <th>3.939752</th>\n",
       "    <th>0.362090</th>\n",
       "    <th>02:32</th>\n",
       "  </tr>\n",
       "  <tr>\n",
       "    <th>6</th>\n",
       "    <th>3.966621</th>\n",
       "    <th>3.916475</th>\n",
       "    <th>0.363950</th>\n",
       "    <th>02:31</th>\n",
       "  </tr>\n",
       "  <tr>\n",
       "    <th>7</th>\n",
       "    <th>3.880331</th>\n",
       "    <th>3.894858</th>\n",
       "    <th>0.366267</th>\n",
       "    <th>02:30</th>\n",
       "  </tr>\n",
       "  <tr>\n",
       "    <th>8</th>\n",
       "    <th>3.788175</th>\n",
       "    <th>3.880169</th>\n",
       "    <th>0.367872</th>\n",
       "    <th>02:30</th>\n",
       "  </tr>\n",
       "  <tr>\n",
       "    <th>9</th>\n",
       "    <th>3.715978</th>\n",
       "    <th>3.874094</th>\n",
       "    <th>0.368322</th>\n",
       "    <th>02:30</th>\n",
       "  </tr>\n",
       "  <tr>\n",
       "    <th>10</th>\n",
       "    <th>3.679970</th>\n",
       "    <th>3.873401</th>\n",
       "    <th>0.368425</th>\n",
       "    <th>02:30</th>\n",
       "  </tr>\n",
       "</table>\n"
      ],
      "text/plain": [
       "<IPython.core.display.HTML object>"
      ]
     },
     "metadata": {},
     "output_type": "display_data"
    }
   ],
   "source": [
    "if LANG == 'es':\n",
    "    weights_pretrained = 'model-30k-vocab-noqrnn'\n",
    "    itos_pretrained = 'itos_pretrained'\n",
    "    pretained_data = (weights_pretrained, itos_pretrained)\n",
    "    learn = language_model_learner(data_lm, AWD_LSTM, drop_mult=0.5, pretrained_fnames=pretained_data)\n",
    "else:\n",
    "    learn = language_model_learner(data_lm, AWD_LSTM, drop_mult=0.5)\n",
    "learn.fit_one_cycle(10, 1e-2)"
   ]
  },
  {
   "cell_type": "code",
   "execution_count": 14,
   "metadata": {
    "papermill": {
     "duration": 1675.976888,
     "end_time": "2019-03-05T20:52:56.604506",
     "exception": false,
     "start_time": "2019-03-05T20:25:00.627618",
     "status": "completed"
    },
    "tags": []
   },
   "outputs": [
    {
     "data": {
      "text/html": [
       "Total time: 27:55 <p><table style='width:375px; margin-bottom:10px'>\n",
       "  <tr>\n",
       "    <th>epoch</th>\n",
       "    <th>train_loss</th>\n",
       "    <th>valid_loss</th>\n",
       "    <th>accuracy</th>\n",
       "    <th>time</th>\n",
       "  </tr>\n",
       "  <tr>\n",
       "    <th>1</th>\n",
       "    <th>3.527667</th>\n",
       "    <th>3.809379</th>\n",
       "    <th>0.374650</th>\n",
       "    <th>02:47</th>\n",
       "  </tr>\n",
       "  <tr>\n",
       "    <th>2</th>\n",
       "    <th>3.484154</th>\n",
       "    <th>3.757525</th>\n",
       "    <th>0.380674</th>\n",
       "    <th>02:47</th>\n",
       "  </tr>\n",
       "  <tr>\n",
       "    <th>3</th>\n",
       "    <th>3.430391</th>\n",
       "    <th>3.728460</th>\n",
       "    <th>0.384667</th>\n",
       "    <th>02:47</th>\n",
       "  </tr>\n",
       "  <tr>\n",
       "    <th>4</th>\n",
       "    <th>3.382685</th>\n",
       "    <th>3.707597</th>\n",
       "    <th>0.388116</th>\n",
       "    <th>02:47</th>\n",
       "  </tr>\n",
       "  <tr>\n",
       "    <th>5</th>\n",
       "    <th>3.291720</th>\n",
       "    <th>3.705999</th>\n",
       "    <th>0.389598</th>\n",
       "    <th>02:47</th>\n",
       "  </tr>\n",
       "  <tr>\n",
       "    <th>6</th>\n",
       "    <th>3.215430</th>\n",
       "    <th>3.712539</th>\n",
       "    <th>0.390667</th>\n",
       "    <th>02:47</th>\n",
       "  </tr>\n",
       "  <tr>\n",
       "    <th>7</th>\n",
       "    <th>3.148415</th>\n",
       "    <th>3.714983</th>\n",
       "    <th>0.391520</th>\n",
       "    <th>02:47</th>\n",
       "  </tr>\n",
       "  <tr>\n",
       "    <th>8</th>\n",
       "    <th>3.065242</th>\n",
       "    <th>3.724349</th>\n",
       "    <th>0.391762</th>\n",
       "    <th>02:47</th>\n",
       "  </tr>\n",
       "  <tr>\n",
       "    <th>9</th>\n",
       "    <th>3.001264</th>\n",
       "    <th>3.732020</th>\n",
       "    <th>0.391900</th>\n",
       "    <th>02:47</th>\n",
       "  </tr>\n",
       "  <tr>\n",
       "    <th>10</th>\n",
       "    <th>2.985130</th>\n",
       "    <th>3.736702</th>\n",
       "    <th>0.391613</th>\n",
       "    <th>02:47</th>\n",
       "  </tr>\n",
       "</table>\n"
      ],
      "text/plain": [
       "<IPython.core.display.HTML object>"
      ]
     },
     "metadata": {},
     "output_type": "display_data"
    }
   ],
   "source": [
    "learn.unfreeze()\n",
    "learn.fit_one_cycle(10, 1e-3)"
   ]
  },
  {
   "cell_type": "code",
   "execution_count": 15,
   "metadata": {
    "papermill": {
     "duration": 0.604447,
     "end_time": "2019-03-05T20:52:57.209171",
     "exception": false,
     "start_time": "2019-03-05T20:52:56.604724",
     "status": "completed"
    },
    "tags": []
   },
   "outputs": [
    {
     "data": {
      "text/plain": [
       "\"He was born in 1910 and gave birth in 1948 . a voice there for her fam . Is she going to die do n't leave the earthquake in seven years ? https : / / t.co / https : / / t.co / micro - m - a - hole . 3D\""
      ]
     },
     "execution_count": 15,
     "metadata": {},
     "output_type": "execute_result"
    }
   ],
   "source": [
    "if LANG == 'es':\n",
    "    test_string = \"Nació en 1910\"\n",
    "else:\n",
    "    test_string = \"He was born in 1910\"\n",
    "learn.predict(test_string, n_words=50)"
   ]
  },
  {
   "cell_type": "code",
   "execution_count": 16,
   "metadata": {
    "papermill": {
     "duration": 1.670732,
     "end_time": "2019-03-05T20:52:58.880149",
     "exception": false,
     "start_time": "2019-03-05T20:52:57.209417",
     "status": "completed"
    },
    "tags": []
   },
   "outputs": [],
   "source": [
    "learn.save_encoder(f'ft_enc_{TASK}_{LANG}')"
   ]
  },
  {
   "cell_type": "code",
   "execution_count": 17,
   "metadata": {
    "papermill": {
     "duration": 1.538577,
     "end_time": "2019-03-05T20:53:00.418918",
     "exception": false,
     "start_time": "2019-03-05T20:52:58.880341",
     "status": "completed"
    },
    "tags": []
   },
   "outputs": [],
   "source": [
    "learn_class = text_classifier_learner(data_clas, AWD_LSTM, drop_mult=0.5)\n",
    "learn_class.load_encoder(f'ft_enc_{TASK}_{LANG}')"
   ]
  },
  {
   "cell_type": "code",
   "execution_count": 18,
   "metadata": {
    "papermill": {
     "duration": 6.590446,
     "end_time": "2019-03-05T20:53:07.009629",
     "exception": false,
     "start_time": "2019-03-05T20:53:00.419183",
     "status": "completed"
    },
    "tags": []
   },
   "outputs": [
    {
     "data": {
      "text/html": [
       "<table border=\"1\" class=\"dataframe\">\n",
       "  <thead>\n",
       "    <tr style=\"text-align: right;\">\n",
       "      <th>text</th>\n",
       "      <th>target</th>\n",
       "    </tr>\n",
       "  </thead>\n",
       "  <tbody>\n",
       "    <tr>\n",
       "      <td>xxbos @pizster @bendleshnitz xxup proud ❤ ️ ❤ ️ ❤ ️ ❤ ️ ❤ ️ ❤ ️ ❤ ️ ❤ ️ ❤ ️ ❤ ️ ❤ ️ ❤ ️ ❤ ️ ❤ ️ ❤ ️ ❤ ️ ❤ ️ ❤ ️ ❤ ️ ❤ ️ ❤ ️ ❤ ️ ❤ ️ ❤ ️ ❤ ️ ❤ ️ ❤ ️ ❤ ️ ❤ ️ ❤ ️ ❤ ️ ❤ ️ ❤</td>\n",
       "      <td>male</td>\n",
       "    </tr>\n",
       "    <tr>\n",
       "      <td>xxbos xxmaj ex - xxmaj xxunk xxup ceo : xxmaj as a xxup ceo and member of the xxmaj board of xxmaj directors at a public company , i can tell you that if we had an increase in profitability we would have been delighted but it would not lead in and of itself to more hiring or an increase in xxunk : / / t.co / xxunk</td>\n",
       "      <td>male</td>\n",
       "    </tr>\n",
       "    <tr>\n",
       "      <td>xxbos xxmaj why are there so many adults tweeting about kids re : b - xxmaj ball ? xxmaj ya'll are xxmaj xxunk depressing . xxmaj kids do n't do this , kids today ai nt tough , kids transfer to much , kids only want to go xxup d1 . xxup smh , kids do not respond well to that constant negative preaching ( never have )</td>\n",
       "      <td>male</td>\n",
       "    </tr>\n",
       "    <tr>\n",
       "      <td>xxbos xxmaj snapchat adds a 2017 year in review feature for saved memories -   xxmaj snapchat users who snap and save can take a stroll down memory lane with the app ’s new feature , “ a xxmaj look xxmaj back at 2017 . ” xxmaj if you ’re the type that would rather xxunk than remain committe ... https : / / t.co / xxunk</td>\n",
       "      <td>female</td>\n",
       "    </tr>\n",
       "    <tr>\n",
       "      <td>xxbos xxmaj that was fun 😂 😂 please join me tomorrow for round two . i 'm going to attempt to stream as long as possible . xxmaj can i beat today ... xxmaj hmmm . # xxmaj witcher3 # thewitcher # twitch # girlgamer # canadaday goodnight everyone ! xxmaj until xxunk ( afternoon sometime ) i 'll try my best for noon .</td>\n",
       "      <td>female</td>\n",
       "    </tr>\n",
       "  </tbody>\n",
       "</table>"
      ],
      "text/plain": [
       "<IPython.core.display.HTML object>"
      ]
     },
     "metadata": {},
     "output_type": "display_data"
    }
   ],
   "source": [
    "data_clas.show_batch()"
   ]
  },
  {
   "cell_type": "code",
   "execution_count": 19,
   "metadata": {
    "papermill": {
     "duration": 1671.02235,
     "end_time": "2019-03-05T21:20:58.032173",
     "exception": false,
     "start_time": "2019-03-05T20:53:07.009823",
     "status": "completed"
    },
    "tags": []
   },
   "outputs": [
    {
     "data": {
      "text/html": [
       "Total time: 27:51 <p><table style='width:375px; margin-bottom:10px'>\n",
       "  <tr>\n",
       "    <th>epoch</th>\n",
       "    <th>train_loss</th>\n",
       "    <th>valid_loss</th>\n",
       "    <th>accuracy</th>\n",
       "    <th>time</th>\n",
       "  </tr>\n",
       "  <tr>\n",
       "    <th>1</th>\n",
       "    <th>0.634418</th>\n",
       "    <th>0.593439</th>\n",
       "    <th>0.682144</th>\n",
       "    <th>02:49</th>\n",
       "  </tr>\n",
       "  <tr>\n",
       "    <th>2</th>\n",
       "    <th>0.646839</th>\n",
       "    <th>0.599347</th>\n",
       "    <th>0.675785</th>\n",
       "    <th>02:48</th>\n",
       "  </tr>\n",
       "  <tr>\n",
       "    <th>3</th>\n",
       "    <th>0.646946</th>\n",
       "    <th>0.636670</th>\n",
       "    <th>0.656513</th>\n",
       "    <th>02:45</th>\n",
       "  </tr>\n",
       "  <tr>\n",
       "    <th>4</th>\n",
       "    <th>0.641460</th>\n",
       "    <th>0.625001</th>\n",
       "    <th>0.673042</th>\n",
       "    <th>02:46</th>\n",
       "  </tr>\n",
       "  <tr>\n",
       "    <th>5</th>\n",
       "    <th>0.643585</th>\n",
       "    <th>0.661970</th>\n",
       "    <th>0.657921</th>\n",
       "    <th>02:46</th>\n",
       "  </tr>\n",
       "  <tr>\n",
       "    <th>6</th>\n",
       "    <th>0.630972</th>\n",
       "    <th>0.605278</th>\n",
       "    <th>0.677144</th>\n",
       "    <th>02:45</th>\n",
       "  </tr>\n",
       "  <tr>\n",
       "    <th>7</th>\n",
       "    <th>0.620150</th>\n",
       "    <th>0.583143</th>\n",
       "    <th>0.688527</th>\n",
       "    <th>02:48</th>\n",
       "  </tr>\n",
       "  <tr>\n",
       "    <th>8</th>\n",
       "    <th>0.629080</th>\n",
       "    <th>0.577959</th>\n",
       "    <th>0.687896</th>\n",
       "    <th>02:44</th>\n",
       "  </tr>\n",
       "  <tr>\n",
       "    <th>9</th>\n",
       "    <th>0.616440</th>\n",
       "    <th>0.574907</th>\n",
       "    <th>0.691585</th>\n",
       "    <th>02:44</th>\n",
       "  </tr>\n",
       "  <tr>\n",
       "    <th>10</th>\n",
       "    <th>0.616854</th>\n",
       "    <th>0.572913</th>\n",
       "    <th>0.693794</th>\n",
       "    <th>02:51</th>\n",
       "  </tr>\n",
       "</table>\n"
      ],
      "text/plain": [
       "<IPython.core.display.HTML object>"
      ]
     },
     "metadata": {},
     "output_type": "display_data"
    }
   ],
   "source": [
    "learn_class.fit_one_cycle(10, 1e-2)"
   ]
  },
  {
   "cell_type": "code",
   "execution_count": 20,
   "metadata": {
    "papermill": {
     "duration": 4.99768,
     "end_time": "2019-03-05T21:21:03.030055",
     "exception": false,
     "start_time": "2019-03-05T21:20:58.032375",
     "status": "completed"
    },
    "tags": []
   },
   "outputs": [],
   "source": [
    "learn.save(f'model_stage_1_{TASK}_{LANG}')"
   ]
  },
  {
   "cell_type": "code",
   "execution_count": null,
   "metadata": {
    "papermill": {
     "duration": 4e-06,
     "end_time": "2019-03-05T21:21:03.030269",
     "exception": null,
     "start_time": "2019-03-05T21:21:03.030265",
     "status": "completed"
    },
    "tags": []
   },
   "outputs": [],
   "source": []
  }
 ],
 "metadata": {
  "celltoolbar": "Tags",
  "kernelspec": {
   "display_name": "Python 3",
   "language": "python",
   "name": "python3"
  },
  "language_info": {
   "codemirror_mode": {
    "name": "ipython",
    "version": 3
   },
   "file_extension": ".py",
   "mimetype": "text/x-python",
   "name": "python",
   "nbconvert_exporter": "python",
   "pygments_lexer": "ipython3",
   "version": "3.6.8"
  },
  "papermill": {
   "duration": 4997.61072,
   "end_time": "2019-03-05T21:21:04.651516",
   "environment_variables": {},
   "exception": false,
   "output_path": "papermill_out/fastai_nb_gender_en.ipynb",
   "parameters": {
    "LANG": "en",
    "TASK": "gender"
   },
   "start_time": "2019-03-05T19:57:47.040796",
   "version": "0.14.2"
  }
 },
 "nbformat": 4,
 "nbformat_minor": 2
}