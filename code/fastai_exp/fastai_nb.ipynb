{
 "cells": [
  {
   "cell_type": "code",
   "execution_count": 40,
   "metadata": {
    "tags": [
     "parameters"
    ]
   },
   "outputs": [],
   "source": [
    "LANG = 'es' # or 'es'\n",
    "TASK = 'gender' # or 'bot_human'"
   ]
  },
  {
   "cell_type": "code",
   "execution_count": 41,
   "metadata": {},
   "outputs": [],
   "source": [
    "import os\n",
    "from fastai.text import * "
   ]
  },
  {
   "cell_type": "code",
   "execution_count": 42,
   "metadata": {},
   "outputs": [
    {
     "data": {
      "text/plain": [
       "1"
      ]
     },
     "execution_count": 42,
     "metadata": {},
     "output_type": "execute_result"
    }
   ],
   "source": [
    "torch.cuda.device_count()"
   ]
  },
  {
   "cell_type": "code",
   "execution_count": 43,
   "metadata": {},
   "outputs": [],
   "source": [
    "proj_path = Path(os.getcwd()).parents[1]"
   ]
  },
  {
   "cell_type": "code",
   "execution_count": 44,
   "metadata": {},
   "outputs": [],
   "source": [
    "data_path = proj_path/f'clean_data_csv_{LANG}'"
   ]
  },
  {
   "cell_type": "code",
   "execution_count": 45,
   "metadata": {},
   "outputs": [],
   "source": [
    "df = pd.read_csv(data_path/f'all_{TASK}_data.csv')"
   ]
  },
  {
   "cell_type": "code",
   "execution_count": 46,
   "metadata": {},
   "outputs": [
    {
     "data": {
      "text/html": [
       "<div>\n",
       "<style scoped>\n",
       "    .dataframe tbody tr th:only-of-type {\n",
       "        vertical-align: middle;\n",
       "    }\n",
       "\n",
       "    .dataframe tbody tr th {\n",
       "        vertical-align: top;\n",
       "    }\n",
       "\n",
       "    .dataframe thead th {\n",
       "        text-align: right;\n",
       "    }\n",
       "</style>\n",
       "<table border=\"1\" class=\"dataframe\">\n",
       "  <thead>\n",
       "    <tr style=\"text-align: right;\">\n",
       "      <th></th>\n",
       "      <th>gender</th>\n",
       "      <th>text</th>\n",
       "    </tr>\n",
       "  </thead>\n",
       "  <tbody>\n",
       "    <tr>\n",
       "      <th>0</th>\n",
       "      <td>female</td>\n",
       "      <td>RT @ISosprisiones: @PP_Asturias @pablocasado_ ...</td>\n",
       "    </tr>\n",
       "    <tr>\n",
       "      <th>1</th>\n",
       "      <td>male</td>\n",
       "      <td>RT @ElNacionalWeb: Nos montan en camiones como...</td>\n",
       "    </tr>\n",
       "    <tr>\n",
       "      <th>2</th>\n",
       "      <td>female</td>\n",
       "      <td>RT @HistoriaEnFotos: Video de la semana: A vec...</td>\n",
       "    </tr>\n",
       "    <tr>\n",
       "      <th>3</th>\n",
       "      <td>female</td>\n",
       "      <td>RT @WinSportsTV: Colombia se ve favorita para ...</td>\n",
       "    </tr>\n",
       "    <tr>\n",
       "      <th>4</th>\n",
       "      <td>female</td>\n",
       "      <td>Os acordáis de cuando vuestra madre os chillab...</td>\n",
       "    </tr>\n",
       "  </tbody>\n",
       "</table>\n",
       "</div>"
      ],
      "text/plain": [
       "   gender                                               text\n",
       "0  female  RT @ISosprisiones: @PP_Asturias @pablocasado_ ...\n",
       "1    male  RT @ElNacionalWeb: Nos montan en camiones como...\n",
       "2  female  RT @HistoriaEnFotos: Video de la semana: A vec...\n",
       "3  female  RT @WinSportsTV: Colombia se ve favorita para ...\n",
       "4  female  Os acordáis de cuando vuestra madre os chillab..."
      ]
     },
     "execution_count": 46,
     "metadata": {},
     "output_type": "execute_result"
    }
   ],
   "source": [
    "df.head()"
   ]
  },
  {
   "cell_type": "code",
   "execution_count": 47,
   "metadata": {},
   "outputs": [],
   "source": [
    "data_lm = TextLMDataBunch.from_csv(data_path, f'all_{TASK}_data.csv')"
   ]
  },
  {
   "cell_type": "code",
   "execution_count": 48,
   "metadata": {},
   "outputs": [],
   "source": [
    "data_clas = TextClasDataBunch.from_csv(data_path, f'all_{TASK}_data.csv', \n",
    "                                       vocab=data_lm.train_ds.vocab, bs=32)"
   ]
  },
  {
   "cell_type": "code",
   "execution_count": 49,
   "metadata": {},
   "outputs": [],
   "source": [
    "data_lm.save(f'data_lm_export_{TASK}_{LANG}.pkl')\n",
    "data_clas.save(f'data_clas_export_{TASK}_{LANG}.pkl')"
   ]
  },
  {
   "cell_type": "code",
   "execution_count": 50,
   "metadata": {},
   "outputs": [],
   "source": [
    "data_lm = load_data(data_path, fname=f'data_lm_export_{TASK}_{LANG}.pkl')\n",
    "data_clas = load_data(data_path, fname=f'data_clas_export_{TASK}_{LANG}.pkl', bs=16)"
   ]
  },
  {
   "cell_type": "code",
   "execution_count": 51,
   "metadata": {},
   "outputs": [
    {
     "data": {
      "text/html": [
       "Total time: 16:57 <p><table style='width:375px; margin-bottom:10px'>\n",
       "  <tr>\n",
       "    <th>epoch</th>\n",
       "    <th>train_loss</th>\n",
       "    <th>valid_loss</th>\n",
       "    <th>accuracy</th>\n",
       "    <th>time</th>\n",
       "  </tr>\n",
       "  <tr>\n",
       "    <th>1</th>\n",
       "    <th>4.538115</th>\n",
       "    <th>4.214494</th>\n",
       "    <th>0.338568</th>\n",
       "    <th>01:41</th>\n",
       "  </tr>\n",
       "  <tr>\n",
       "    <th>2</th>\n",
       "    <th>4.219690</th>\n",
       "    <th>3.974395</th>\n",
       "    <th>0.352820</th>\n",
       "    <th>01:41</th>\n",
       "  </tr>\n",
       "  <tr>\n",
       "    <th>3</th>\n",
       "    <th>4.095427</th>\n",
       "    <th>3.921479</th>\n",
       "    <th>0.355145</th>\n",
       "    <th>01:41</th>\n",
       "  </tr>\n",
       "  <tr>\n",
       "    <th>4</th>\n",
       "    <th>3.960233</th>\n",
       "    <th>3.898384</th>\n",
       "    <th>0.356943</th>\n",
       "    <th>01:42</th>\n",
       "  </tr>\n",
       "  <tr>\n",
       "    <th>5</th>\n",
       "    <th>3.852141</th>\n",
       "    <th>3.878696</th>\n",
       "    <th>0.359102</th>\n",
       "    <th>01:41</th>\n",
       "  </tr>\n",
       "  <tr>\n",
       "    <th>6</th>\n",
       "    <th>3.752356</th>\n",
       "    <th>3.861223</th>\n",
       "    <th>0.361029</th>\n",
       "    <th>01:41</th>\n",
       "  </tr>\n",
       "  <tr>\n",
       "    <th>7</th>\n",
       "    <th>3.654377</th>\n",
       "    <th>3.845819</th>\n",
       "    <th>0.363146</th>\n",
       "    <th>01:41</th>\n",
       "  </tr>\n",
       "  <tr>\n",
       "    <th>8</th>\n",
       "    <th>3.531621</th>\n",
       "    <th>3.837612</th>\n",
       "    <th>0.363685</th>\n",
       "    <th>01:41</th>\n",
       "  </tr>\n",
       "  <tr>\n",
       "    <th>9</th>\n",
       "    <th>3.463402</th>\n",
       "    <th>3.835796</th>\n",
       "    <th>0.363971</th>\n",
       "    <th>01:41</th>\n",
       "  </tr>\n",
       "  <tr>\n",
       "    <th>10</th>\n",
       "    <th>3.400971</th>\n",
       "    <th>3.835129</th>\n",
       "    <th>0.364488</th>\n",
       "    <th>01:41</th>\n",
       "  </tr>\n",
       "</table>\n"
      ],
      "text/plain": [
       "<IPython.core.display.HTML object>"
      ]
     },
     "metadata": {},
     "output_type": "display_data"
    }
   ],
   "source": [
    "if LANG == 'es':\n",
    "    weights_pretrained = 'model-30k-vocab-noqrnn'\n",
    "    itos_pretrained = 'itos_pretrained'\n",
    "    pretained_data = (weights_pretrained, itos_pretrained)\n",
    "    learn = language_model_learner(data_lm, AWD_LSTM, drop_mult=0.5, pretrained_fnames=pretained_data)\n",
    "else:\n",
    "    learn = language_model_learner(data_lm, AWD_LSTM, drop_mult=0.5)\n",
    "learn.fit_one_cycle(10, 1e-2)"
   ]
  },
  {
   "cell_type": "code",
   "execution_count": 52,
   "metadata": {},
   "outputs": [
    {
     "data": {
      "text/html": [
       "Total time: 18:54 <p><table style='width:375px; margin-bottom:10px'>\n",
       "  <tr>\n",
       "    <th>epoch</th>\n",
       "    <th>train_loss</th>\n",
       "    <th>valid_loss</th>\n",
       "    <th>accuracy</th>\n",
       "    <th>time</th>\n",
       "  </tr>\n",
       "  <tr>\n",
       "    <th>1</th>\n",
       "    <th>3.304552</th>\n",
       "    <th>3.822562</th>\n",
       "    <th>0.367824</th>\n",
       "    <th>01:53</th>\n",
       "  </tr>\n",
       "  <tr>\n",
       "    <th>2</th>\n",
       "    <th>3.257565</th>\n",
       "    <th>3.795461</th>\n",
       "    <th>0.371709</th>\n",
       "    <th>01:53</th>\n",
       "  </tr>\n",
       "  <tr>\n",
       "    <th>3</th>\n",
       "    <th>3.206107</th>\n",
       "    <th>3.775078</th>\n",
       "    <th>0.375215</th>\n",
       "    <th>01:53</th>\n",
       "  </tr>\n",
       "  <tr>\n",
       "    <th>4</th>\n",
       "    <th>3.119625</th>\n",
       "    <th>3.775993</th>\n",
       "    <th>0.376826</th>\n",
       "    <th>01:53</th>\n",
       "  </tr>\n",
       "  <tr>\n",
       "    <th>5</th>\n",
       "    <th>3.037339</th>\n",
       "    <th>3.783947</th>\n",
       "    <th>0.378051</th>\n",
       "    <th>01:53</th>\n",
       "  </tr>\n",
       "  <tr>\n",
       "    <th>6</th>\n",
       "    <th>2.937262</th>\n",
       "    <th>3.809418</th>\n",
       "    <th>0.377824</th>\n",
       "    <th>01:53</th>\n",
       "  </tr>\n",
       "  <tr>\n",
       "    <th>7</th>\n",
       "    <th>2.857004</th>\n",
       "    <th>3.825740</th>\n",
       "    <th>0.378831</th>\n",
       "    <th>01:53</th>\n",
       "  </tr>\n",
       "  <tr>\n",
       "    <th>8</th>\n",
       "    <th>2.776447</th>\n",
       "    <th>3.842632</th>\n",
       "    <th>0.378509</th>\n",
       "    <th>01:53</th>\n",
       "  </tr>\n",
       "  <tr>\n",
       "    <th>9</th>\n",
       "    <th>2.730201</th>\n",
       "    <th>3.853957</th>\n",
       "    <th>0.378375</th>\n",
       "    <th>01:53</th>\n",
       "  </tr>\n",
       "  <tr>\n",
       "    <th>10</th>\n",
       "    <th>2.697594</th>\n",
       "    <th>3.859846</th>\n",
       "    <th>0.378254</th>\n",
       "    <th>01:53</th>\n",
       "  </tr>\n",
       "</table>\n"
      ],
      "text/plain": [
       "<IPython.core.display.HTML object>"
      ]
     },
     "metadata": {},
     "output_type": "display_data"
    }
   ],
   "source": [
    "learn.unfreeze()\n",
    "learn.fit_one_cycle(10, 1e-3)"
   ]
  },
  {
   "cell_type": "code",
   "execution_count": 53,
   "metadata": {},
   "outputs": [
    {
     "data": {
      "text/plain": [
       "'Nació en 1910 y grillos regalaron Lima hasta barcos 😂 por lo pronto recibí a todos sus artistas . https : / / t.co / cuervo xxbos RT @juan_carlosesp : Tenemos un Pr . @transantiago desde Durmiendo . El semestre tiene demora , ya que ya'"
      ]
     },
     "execution_count": 53,
     "metadata": {},
     "output_type": "execute_result"
    }
   ],
   "source": [
    "if LANG == 'es':\n",
    "    test_string = \"Nació en 1910\"\n",
    "else:\n",
    "    test_string = \"He was born in 1910\"\n",
    "learn.predict(test_string, n_words=50)"
   ]
  },
  {
   "cell_type": "code",
   "execution_count": 54,
   "metadata": {},
   "outputs": [],
   "source": [
    "learn.save_encoder(f'ft_enc_{TASK}_{LANG}')"
   ]
  },
  {
   "cell_type": "code",
   "execution_count": 55,
   "metadata": {},
   "outputs": [],
   "source": [
    "learn_class = text_classifier_learner(data_clas, AWD_LSTM, drop_mult=0.5)\n",
    "learn_class.load_encoder(f'ft_enc_{TASK}_{LANG}')"
   ]
  },
  {
   "cell_type": "code",
   "execution_count": 56,
   "metadata": {},
   "outputs": [
    {
     "data": {
      "text/html": [
       "<table border=\"1\" class=\"dataframe\">\n",
       "  <thead>\n",
       "    <tr style=\"text-align: right;\">\n",
       "      <th>text</th>\n",
       "      <th>target</th>\n",
       "    </tr>\n",
       "  </thead>\n",
       "  <tbody>\n",
       "    <tr>\n",
       "      <td>xxbos 🐶 🐺 🐱 🐭 🐹 🐰 🐸 🐯 🐨 🐻 🐷 🐽 🐮 🐗 🐵 🐒 🐴 🐑 🐘 🐼 🐧 🐦 🐤 🐥 🐣 🐔 🐍 🐢 🐛 🐝 xxunk 🐞 xxunk 🐙 🐚 🐠 🐟 🐬 xxunk 🐋 xxunk 🐏 🐀 xxunk 🐅 🐇 xxunk 🐎 🐐 🐓 🐕 🐪 xxunk 🐂 xxunk xxunk xxunk 🐫 🐪 xxunk 🐈 🐩 🐾 💐 🌸 🌷 🍀 🌹 🌻</td>\n",
       "      <td>female</td>\n",
       "    </tr>\n",
       "    <tr>\n",
       "      <td>xxbos ¡ xxup el xxup uribismo xxup juega xxup con xxup gambito xxup de xxup jep ! xxup ya xxup con xxup misuón xxup cumplida xxup de xxup curules xxup de xxup paz xxup hundidas a xxup costa xxup de xxup sacrificar xxup por xxup ahora xxup reforma xxup de xxup la xxup jep , xxup se xxup viene xxup la ' xxup constituyente ' xxmaj por falta de quórum</td>\n",
       "      <td>male</td>\n",
       "    </tr>\n",
       "    <tr>\n",
       "      <td>xxbos @adnradiochile # lostenores xxmaj beñat porque con 5 lukas te armo 1 cena pa’ 20 . xxmaj llegaron como refuerzos jugadores reservas en sus clubes como xxmaj vilches y xxmaj bolados , con uno de los peores 3 que vi en xxmaj católica xxmaj voboril , con juveniles como xxmaj saavedra , xxmaj munder , xxmaj kuse y xxmaj rebolledo . xxmaj los motiva a todos jueguen o no</td>\n",
       "      <td>male</td>\n",
       "    </tr>\n",
       "    <tr>\n",
       "      <td>xxbos # chilexlaclave ¿ xxmaj tanta mano había que meterle a la xxmaj roja @panchoeguiluz ? xxmaj rueda nomina a los amistosos en verso pero va a terminar en prosa en la xxmaj copa xxmaj américa con casi el mismo equipo de siempre , salvo xxmaj bravo lesión , xxmaj jara rendimiento y xxmaj vargas indisciplina . ( xxmaj guarden este 11 ) https : / / t.co / xxunk</td>\n",
       "      <td>male</td>\n",
       "    </tr>\n",
       "    <tr>\n",
       "      <td>xxbos xxmaj la derecha es inepta hasta para planificar un golpe , la táctica con la que xxup fracasaron en xxmaj venezuela , durante 2017 , la xxup copian en xxmaj nicaragua . xxmaj veremos si les funciona . xxmaj por cierto , ves las fotos y comparas y te das cuenta que xxup nada de esa lucha es espontánea ... https : / / t.co / xxunk</td>\n",
       "      <td>male</td>\n",
       "    </tr>\n",
       "  </tbody>\n",
       "</table>"
      ],
      "text/plain": [
       "<IPython.core.display.HTML object>"
      ]
     },
     "metadata": {},
     "output_type": "display_data"
    }
   ],
   "source": [
    "data_clas.show_batch()"
   ]
  },
  {
   "cell_type": "code",
   "execution_count": 57,
   "metadata": {},
   "outputs": [
    {
     "data": {
      "text/html": [
       "Total time: 10:00 <p><table style='width:375px; margin-bottom:10px'>\n",
       "  <tr>\n",
       "    <th>epoch</th>\n",
       "    <th>train_loss</th>\n",
       "    <th>valid_loss</th>\n",
       "    <th>accuracy</th>\n",
       "    <th>time</th>\n",
       "  </tr>\n",
       "  <tr>\n",
       "    <th>1</th>\n",
       "    <th>0.652774</th>\n",
       "    <th>0.677458</th>\n",
       "    <th>0.648745</th>\n",
       "    <th>01:59</th>\n",
       "  </tr>\n",
       "  <tr>\n",
       "    <th>2</th>\n",
       "    <th>0.659461</th>\n",
       "    <th>0.632329</th>\n",
       "    <th>0.639979</th>\n",
       "    <th>01:58</th>\n",
       "  </tr>\n",
       "  <tr>\n",
       "    <th>3</th>\n",
       "    <th>0.640644</th>\n",
       "    <th>0.628569</th>\n",
       "    <th>0.652645</th>\n",
       "    <th>02:02</th>\n",
       "  </tr>\n",
       "  <tr>\n",
       "    <th>4</th>\n",
       "    <th>0.659006</th>\n",
       "    <th>0.618700</th>\n",
       "    <th>0.658011</th>\n",
       "    <th>02:00</th>\n",
       "  </tr>\n",
       "  <tr>\n",
       "    <th>5</th>\n",
       "    <th>0.644479</th>\n",
       "    <th>0.613452</th>\n",
       "    <th>0.667611</th>\n",
       "    <th>01:59</th>\n",
       "  </tr>\n",
       "</table>\n"
      ],
      "text/plain": [
       "<IPython.core.display.HTML object>"
      ]
     },
     "metadata": {},
     "output_type": "display_data"
    }
   ],
   "source": [
    "learn_class.fit_one_cycle(10, 1e-2)"
   ]
  },
  {
   "cell_type": "code",
   "execution_count": 58,
   "metadata": {},
   "outputs": [],
   "source": [
    "learn.save(f'model_stage_1_{TASK}_{LANG}')"
   ]
  },
  {
   "cell_type": "code",
   "execution_count": null,
   "metadata": {},
   "outputs": [],
   "source": []
  }
 ],
 "metadata": {
  "celltoolbar": "Tags",
  "kernelspec": {
   "display_name": "Python 3",
   "language": "python",
   "name": "python3"
  },
  "language_info": {
   "codemirror_mode": {
    "name": "ipython",
    "version": 3
   },
   "file_extension": ".py",
   "mimetype": "text/x-python",
   "name": "python",
   "nbconvert_exporter": "python",
   "pygments_lexer": "ipython3",
   "version": "3.6.8"
  }
 },
 "nbformat": 4,
 "nbformat_minor": 2
}
